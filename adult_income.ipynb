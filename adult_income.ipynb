{
  "nbformat": 4,
  "nbformat_minor": 0,
  "metadata": {
    "colab": {
      "name": "adult_income.ipynb",
      "provenance": [],
      "collapsed_sections": [],
      "toc_visible": true,
      "include_colab_link": true
    },
    "kernelspec": {
      "name": "python3",
      "display_name": "Python 3"
    }
  },
  "cells": [
    {
      "cell_type": "markdown",
      "metadata": {
        "id": "view-in-github",
        "colab_type": "text"
      },
      "source": [
        "<a href=\"https://colab.research.google.com/github/dhruvk98/Machine-Learning-Datasets/blob/master/adult_income.ipynb\" target=\"_parent\"><img src=\"https://colab.research.google.com/assets/colab-badge.svg\" alt=\"Open In Colab\"/></a>"
      ]
    },
    {
      "cell_type": "markdown",
      "metadata": {
        "id": "IoPSpI4bW_Bg",
        "colab_type": "text"
      },
      "source": [
        "# Adult Income Dataset\n",
        "A binary classification problem to determine whether a person's salary is above or below the 50K mark."
      ]
    },
    {
      "cell_type": "markdown",
      "metadata": {
        "id": "VTtWI4aaXRA8",
        "colab_type": "text"
      },
      "source": [
        "## Importing libraries"
      ]
    },
    {
      "cell_type": "code",
      "metadata": {
        "id": "zs3SeiK1JZkF",
        "colab_type": "code",
        "colab": {}
      },
      "source": [
        "# importing our libraries\n",
        "import pandas as pd\n",
        "import numpy as np\n",
        "import matplotlib.pyplot as plt\n",
        "%matplotlib inline\n",
        "import seaborn as sns"
      ],
      "execution_count": 0,
      "outputs": []
    },
    {
      "cell_type": "code",
      "metadata": {
        "id": "2BxWzVF5LURU",
        "colab_type": "code",
        "colab": {}
      },
      "source": [
        "# uploading csv file and creating dataframe\n",
        "# from google.colab import files\n",
        "# uploaded = files.upload()"
      ],
      "execution_count": 0,
      "outputs": []
    },
    {
      "cell_type": "code",
      "metadata": {
        "id": "quXYBtInJf30",
        "colab_type": "code",
        "colab": {}
      },
      "source": [
        "df=pd.read_csv('adult.csv',sep=',',encoding='utf-8')"
      ],
      "execution_count": 0,
      "outputs": []
    },
    {
      "cell_type": "code",
      "metadata": {
        "id": "CDYbiWUb2wEJ",
        "colab_type": "code",
        "outputId": "f48b9131-f128-4c36-b7a8-15fcb6a55b87",
        "colab": {
          "base_uri": "https://localhost:8080/",
          "height": 394
        }
      },
      "source": [
        "df.head()"
      ],
      "execution_count": 0,
      "outputs": [
        {
          "output_type": "execute_result",
          "data": {
            "text/html": [
              "<div>\n",
              "<style scoped>\n",
              "    .dataframe tbody tr th:only-of-type {\n",
              "        vertical-align: middle;\n",
              "    }\n",
              "\n",
              "    .dataframe tbody tr th {\n",
              "        vertical-align: top;\n",
              "    }\n",
              "\n",
              "    .dataframe thead th {\n",
              "        text-align: right;\n",
              "    }\n",
              "</style>\n",
              "<table border=\"1\" class=\"dataframe\">\n",
              "  <thead>\n",
              "    <tr style=\"text-align: right;\">\n",
              "      <th></th>\n",
              "      <th>age</th>\n",
              "      <th>workclass</th>\n",
              "      <th>fnlwgt</th>\n",
              "      <th>education</th>\n",
              "      <th>educational-num</th>\n",
              "      <th>marital-status</th>\n",
              "      <th>occupation</th>\n",
              "      <th>relationship</th>\n",
              "      <th>race</th>\n",
              "      <th>gender</th>\n",
              "      <th>capital-gain</th>\n",
              "      <th>capital-loss</th>\n",
              "      <th>hours-per-week</th>\n",
              "      <th>native-country</th>\n",
              "      <th>income</th>\n",
              "    </tr>\n",
              "  </thead>\n",
              "  <tbody>\n",
              "    <tr>\n",
              "      <th>0</th>\n",
              "      <td>25</td>\n",
              "      <td>Private</td>\n",
              "      <td>226802</td>\n",
              "      <td>11th</td>\n",
              "      <td>7</td>\n",
              "      <td>Never-married</td>\n",
              "      <td>Machine-op-inspct</td>\n",
              "      <td>Own-child</td>\n",
              "      <td>Black</td>\n",
              "      <td>Male</td>\n",
              "      <td>0.0</td>\n",
              "      <td>0.0</td>\n",
              "      <td>40.0</td>\n",
              "      <td>United-States</td>\n",
              "      <td>&lt;=50K</td>\n",
              "    </tr>\n",
              "    <tr>\n",
              "      <th>1</th>\n",
              "      <td>38</td>\n",
              "      <td>Private</td>\n",
              "      <td>89814</td>\n",
              "      <td>HS-grad</td>\n",
              "      <td>9</td>\n",
              "      <td>Married-civ-spouse</td>\n",
              "      <td>Farming-fishing</td>\n",
              "      <td>Husband</td>\n",
              "      <td>White</td>\n",
              "      <td>Male</td>\n",
              "      <td>0.0</td>\n",
              "      <td>0.0</td>\n",
              "      <td>50.0</td>\n",
              "      <td>United-States</td>\n",
              "      <td>&lt;=50K</td>\n",
              "    </tr>\n",
              "    <tr>\n",
              "      <th>2</th>\n",
              "      <td>28</td>\n",
              "      <td>Local-gov</td>\n",
              "      <td>336951</td>\n",
              "      <td>Assoc-acdm</td>\n",
              "      <td>12</td>\n",
              "      <td>Married-civ-spouse</td>\n",
              "      <td>Protective-serv</td>\n",
              "      <td>Husband</td>\n",
              "      <td>White</td>\n",
              "      <td>Male</td>\n",
              "      <td>0.0</td>\n",
              "      <td>0.0</td>\n",
              "      <td>40.0</td>\n",
              "      <td>United-States</td>\n",
              "      <td>&gt;50K</td>\n",
              "    </tr>\n",
              "    <tr>\n",
              "      <th>3</th>\n",
              "      <td>44</td>\n",
              "      <td>Private</td>\n",
              "      <td>160323</td>\n",
              "      <td>Some-college</td>\n",
              "      <td>10</td>\n",
              "      <td>Married-civ-spouse</td>\n",
              "      <td>Machine-op-inspct</td>\n",
              "      <td>Husband</td>\n",
              "      <td>Black</td>\n",
              "      <td>Male</td>\n",
              "      <td>7688.0</td>\n",
              "      <td>0.0</td>\n",
              "      <td>40.0</td>\n",
              "      <td>United-States</td>\n",
              "      <td>&gt;50K</td>\n",
              "    </tr>\n",
              "    <tr>\n",
              "      <th>4</th>\n",
              "      <td>18</td>\n",
              "      <td>?</td>\n",
              "      <td>103497</td>\n",
              "      <td>Some-college</td>\n",
              "      <td>10</td>\n",
              "      <td>Never-married</td>\n",
              "      <td>?</td>\n",
              "      <td>Own-child</td>\n",
              "      <td>White</td>\n",
              "      <td>Female</td>\n",
              "      <td>0.0</td>\n",
              "      <td>0.0</td>\n",
              "      <td>30.0</td>\n",
              "      <td>United-States</td>\n",
              "      <td>&lt;=50K</td>\n",
              "    </tr>\n",
              "  </tbody>\n",
              "</table>\n",
              "</div>"
            ],
            "text/plain": [
              "   age  workclass  fnlwgt  ... hours-per-week  native-country income\n",
              "0   25    Private  226802  ...           40.0   United-States  <=50K\n",
              "1   38    Private   89814  ...           50.0   United-States  <=50K\n",
              "2   28  Local-gov  336951  ...           40.0   United-States   >50K\n",
              "3   44    Private  160323  ...           40.0   United-States   >50K\n",
              "4   18          ?  103497  ...           30.0   United-States  <=50K\n",
              "\n",
              "[5 rows x 15 columns]"
            ]
          },
          "metadata": {
            "tags": []
          },
          "execution_count": 7
        }
      ]
    },
    {
      "cell_type": "code",
      "metadata": {
        "id": "VMysA_aOIKnx",
        "colab_type": "code",
        "outputId": "39454335-c5e2-4514-c445-135f973fcdd5",
        "colab": {
          "base_uri": "https://localhost:8080/",
          "height": 34
        }
      },
      "source": [
        "df.shape"
      ],
      "execution_count": 0,
      "outputs": [
        {
          "output_type": "execute_result",
          "data": {
            "text/plain": [
              "(28855, 15)"
            ]
          },
          "metadata": {
            "tags": []
          },
          "execution_count": 8
        }
      ]
    },
    {
      "cell_type": "code",
      "metadata": {
        "id": "L5lLgS16OjE7",
        "colab_type": "code",
        "outputId": "1ea9f87e-003b-4f8c-fcf8-004d72f9857e",
        "colab": {
          "base_uri": "https://localhost:8080/",
          "height": 391
        }
      },
      "source": [
        "df.info()"
      ],
      "execution_count": 0,
      "outputs": [
        {
          "output_type": "stream",
          "text": [
            "<class 'pandas.core.frame.DataFrame'>\n",
            "RangeIndex: 28855 entries, 0 to 28854\n",
            "Data columns (total 15 columns):\n",
            " #   Column           Non-Null Count  Dtype  \n",
            "---  ------           --------------  -----  \n",
            " 0   age              28855 non-null  int64  \n",
            " 1   workclass        28855 non-null  object \n",
            " 2   fnlwgt           28855 non-null  int64  \n",
            " 3   education        28855 non-null  object \n",
            " 4   educational-num  28855 non-null  int64  \n",
            " 5   marital-status   28855 non-null  object \n",
            " 6   occupation       28854 non-null  object \n",
            " 7   relationship     28854 non-null  object \n",
            " 8   race             28854 non-null  object \n",
            " 9   gender           28854 non-null  object \n",
            " 10  capital-gain     28854 non-null  float64\n",
            " 11  capital-loss     28854 non-null  float64\n",
            " 12  hours-per-week   28854 non-null  float64\n",
            " 13  native-country   28854 non-null  object \n",
            " 14  income           28854 non-null  object \n",
            "dtypes: float64(3), int64(3), object(9)\n",
            "memory usage: 3.3+ MB\n"
          ],
          "name": "stdout"
        }
      ]
    },
    {
      "cell_type": "markdown",
      "metadata": {
        "id": "AOZG0qFUXgBH",
        "colab_type": "text"
      },
      "source": [
        "## Exploratory Data Analysis\n"
      ]
    },
    {
      "cell_type": "code",
      "metadata": {
        "id": "O5Q30VMrXkCJ",
        "colab_type": "code",
        "outputId": "b9930eec-0968-4232-92f4-a175617975c3",
        "colab": {
          "base_uri": "https://localhost:8080/",
          "height": 235
        }
      },
      "source": [
        "df.describe().T"
      ],
      "execution_count": 0,
      "outputs": [
        {
          "output_type": "execute_result",
          "data": {
            "text/html": [
              "<div>\n",
              "<style scoped>\n",
              "    .dataframe tbody tr th:only-of-type {\n",
              "        vertical-align: middle;\n",
              "    }\n",
              "\n",
              "    .dataframe tbody tr th {\n",
              "        vertical-align: top;\n",
              "    }\n",
              "\n",
              "    .dataframe thead th {\n",
              "        text-align: right;\n",
              "    }\n",
              "</style>\n",
              "<table border=\"1\" class=\"dataframe\">\n",
              "  <thead>\n",
              "    <tr style=\"text-align: right;\">\n",
              "      <th></th>\n",
              "      <th>count</th>\n",
              "      <th>mean</th>\n",
              "      <th>std</th>\n",
              "      <th>min</th>\n",
              "      <th>25%</th>\n",
              "      <th>50%</th>\n",
              "      <th>75%</th>\n",
              "      <th>max</th>\n",
              "    </tr>\n",
              "  </thead>\n",
              "  <tbody>\n",
              "    <tr>\n",
              "      <th>age</th>\n",
              "      <td>28855.0</td>\n",
              "      <td>38.634344</td>\n",
              "      <td>13.742880</td>\n",
              "      <td>17.0</td>\n",
              "      <td>28.0</td>\n",
              "      <td>37.0</td>\n",
              "      <td>48.0</td>\n",
              "      <td>90.0</td>\n",
              "    </tr>\n",
              "    <tr>\n",
              "      <th>fnlwgt</th>\n",
              "      <td>28855.0</td>\n",
              "      <td>189756.508473</td>\n",
              "      <td>105450.076329</td>\n",
              "      <td>13492.0</td>\n",
              "      <td>117527.0</td>\n",
              "      <td>178109.0</td>\n",
              "      <td>238410.0</td>\n",
              "      <td>1490400.0</td>\n",
              "    </tr>\n",
              "    <tr>\n",
              "      <th>educational-num</th>\n",
              "      <td>28855.0</td>\n",
              "      <td>10.073575</td>\n",
              "      <td>2.559413</td>\n",
              "      <td>1.0</td>\n",
              "      <td>9.0</td>\n",
              "      <td>10.0</td>\n",
              "      <td>12.0</td>\n",
              "      <td>16.0</td>\n",
              "    </tr>\n",
              "    <tr>\n",
              "      <th>capital-gain</th>\n",
              "      <td>28854.0</td>\n",
              "      <td>1070.827892</td>\n",
              "      <td>7463.025745</td>\n",
              "      <td>0.0</td>\n",
              "      <td>0.0</td>\n",
              "      <td>0.0</td>\n",
              "      <td>0.0</td>\n",
              "      <td>99999.0</td>\n",
              "    </tr>\n",
              "    <tr>\n",
              "      <th>capital-loss</th>\n",
              "      <td>28854.0</td>\n",
              "      <td>88.328273</td>\n",
              "      <td>403.260391</td>\n",
              "      <td>0.0</td>\n",
              "      <td>0.0</td>\n",
              "      <td>0.0</td>\n",
              "      <td>0.0</td>\n",
              "      <td>4356.0</td>\n",
              "    </tr>\n",
              "    <tr>\n",
              "      <th>hours-per-week</th>\n",
              "      <td>28854.0</td>\n",
              "      <td>40.442608</td>\n",
              "      <td>12.384877</td>\n",
              "      <td>1.0</td>\n",
              "      <td>40.0</td>\n",
              "      <td>40.0</td>\n",
              "      <td>45.0</td>\n",
              "      <td>99.0</td>\n",
              "    </tr>\n",
              "  </tbody>\n",
              "</table>\n",
              "</div>"
            ],
            "text/plain": [
              "                   count           mean  ...       75%        max\n",
              "age              28855.0      38.634344  ...      48.0       90.0\n",
              "fnlwgt           28855.0  189756.508473  ...  238410.0  1490400.0\n",
              "educational-num  28855.0      10.073575  ...      12.0       16.0\n",
              "capital-gain     28854.0    1070.827892  ...       0.0    99999.0\n",
              "capital-loss     28854.0      88.328273  ...       0.0     4356.0\n",
              "hours-per-week   28854.0      40.442608  ...      45.0       99.0\n",
              "\n",
              "[6 rows x 8 columns]"
            ]
          },
          "metadata": {
            "tags": []
          },
          "execution_count": 10
        }
      ]
    },
    {
      "cell_type": "code",
      "metadata": {
        "id": "-HiA1GdavVZ0",
        "colab_type": "code",
        "outputId": "95c75165-eeb4-410d-f665-4a8ae2ab484f",
        "colab": {
          "base_uri": "https://localhost:8080/",
          "height": 34
        }
      },
      "source": [
        "df.columns=['age','workclass','fweight','education','education_num','mstatus','occupation','relationship',\n",
        "            'race','sex','capital_gain','capital_loss','hours_per_week','country','income']\n",
        "# replacing ? with NaN values and dropping those rows\n",
        "df.replace('?',np.NaN,inplace=True)\n",
        "print(df.shape)"
      ],
      "execution_count": 0,
      "outputs": [
        {
          "output_type": "stream",
          "text": [
            "(28855, 15)\n"
          ],
          "name": "stdout"
        }
      ]
    },
    {
      "cell_type": "markdown",
      "metadata": {
        "id": "LoDZ7n7R2yqN",
        "colab_type": "text"
      },
      "source": [
        "The following graph gives us a distribution of how many male and female instances are present in our income class. "
      ]
    },
    {
      "cell_type": "code",
      "metadata": {
        "id": "zUBa6r0H2H-O",
        "colab_type": "code",
        "outputId": "7e664552-ba96-4e42-a76c-da2c5b20b9b8",
        "colab": {
          "base_uri": "https://localhost:8080/",
          "height": 279
        }
      },
      "source": [
        "sns.countplot(y='income',hue='sex',data=df)\n",
        "plt.show()"
      ],
      "execution_count": 0,
      "outputs": [
        {
          "output_type": "display_data",
          "data": {
            "image/png": "[encoded data removed]",
            "text/plain": [
              "<Figure size 432x288 with 1 Axes>"
            ]
          },
          "metadata": {
            "tags": [],
            "needs_background": "light"
          }
        }
      ]
    },
    {
      "cell_type": "code",
      "metadata": {
        "id": "KE9k9NbHwsOy",
        "colab_type": "code",
        "outputId": "a75c8dc7-c95f-4720-b88b-2d1932251895",
        "colab": {
          "base_uri": "https://localhost:8080/",
          "height": 892
        }
      },
      "source": [
        "# visualizing numerical attributes of our dataset\n",
        "df.hist(bins=10,figsize=(15,15))\n",
        "plt.show()"
      ],
      "execution_count": 0,
      "outputs": [
        {
          "output_type": "display_data",
          "data": {
            "image/png": "[encoded data removed]",
            "text/plain": [
              "<Figure size 1080x1080 with 6 Axes>"
            ]
          },
          "metadata": {
            "tags": [],
            "needs_background": "light"
          }
        }
      ]
    },
    {
      "cell_type": "markdown",
      "metadata": {
        "id": "MzuXj_CpgA7S",
        "colab_type": "text"
      },
      "source": [
        "## Data Preparation"
      ]
    },
    {
      "cell_type": "markdown",
      "metadata": {
        "id": "03rXuvHoxHy2",
        "colab_type": "text"
      },
      "source": [
        "In our dataset there's only one instance where the country is Holand-Netherlands so we drop that row. "
      ]
    },
    {
      "cell_type": "code",
      "metadata": {
        "id": "_B4ccLYMd3fc",
        "colab_type": "code",
        "colab": {}
      },
      "source": [
        "df = df[df.country!='Holand-Netherlands'] "
      ],
      "execution_count": 0,
      "outputs": []
    },
    {
      "cell_type": "code",
      "metadata": {
        "id": "JVytTt4PI-s8",
        "colab_type": "code",
        "outputId": "9afbc553-3a22-42d2-f38f-b2ea363c2d22",
        "colab": {
          "base_uri": "https://localhost:8080/",
          "height": 34
        }
      },
      "source": [
        "df_new = df.dropna()\n",
        "print(df_new.shape)"
      ],
      "execution_count": 0,
      "outputs": [
        {
          "output_type": "stream",
          "text": [
            "(26688, 15)\n"
          ],
          "name": "stdout"
        }
      ]
    },
    {
      "cell_type": "code",
      "metadata": {
        "id": "McwtYOyv34kq",
        "colab_type": "code",
        "outputId": "f58d60d4-6eb9-454f-9dca-17338a909856",
        "colab": {
          "base_uri": "https://localhost:8080/",
          "height": 391
        }
      },
      "source": [
        "df_new.info()"
      ],
      "execution_count": 0,
      "outputs": [
        {
          "output_type": "stream",
          "text": [
            "<class 'pandas.core.frame.DataFrame'>\n",
            "Int64Index: 26688 entries, 0 to 28853\n",
            "Data columns (total 15 columns):\n",
            " #   Column          Non-Null Count  Dtype  \n",
            "---  ------          --------------  -----  \n",
            " 0   age             26688 non-null  int64  \n",
            " 1   workclass       26688 non-null  object \n",
            " 2   fweight         26688 non-null  int64  \n",
            " 3   education       26688 non-null  object \n",
            " 4   education_num   26688 non-null  int64  \n",
            " 5   mstatus         26688 non-null  object \n",
            " 6   occupation      26688 non-null  object \n",
            " 7   relationship    26688 non-null  object \n",
            " 8   race            26688 non-null  object \n",
            " 9   sex             26688 non-null  object \n",
            " 10  capital_gain    26688 non-null  float64\n",
            " 11  capital_loss    26688 non-null  float64\n",
            " 12  hours_per_week  26688 non-null  float64\n",
            " 13  country         26688 non-null  object \n",
            " 14  income          26688 non-null  object \n",
            "dtypes: float64(3), int64(3), object(9)\n",
            "memory usage: 3.3+ MB\n"
          ],
          "name": "stdout"
        }
      ]
    },
    {
      "cell_type": "markdown",
      "metadata": {
        "id": "rZrS0LGwrNwh",
        "colab_type": "text"
      },
      "source": [
        "First we separate our dataset into its dependent and independent variables."
      ]
    },
    {
      "cell_type": "code",
      "metadata": {
        "id": "igxwVUkYPQGv",
        "colab_type": "code",
        "outputId": "6c31d5b4-43cd-4d92-f7ea-92c125c391c0",
        "colab": {
          "base_uri": "https://localhost:8080/",
          "height": 51
        }
      },
      "source": [
        "# separate dependent and independent variables\n",
        "y=df_new.income\n",
        "X=df_new.drop('income',axis=1)\n",
        "print(X.shape)\n",
        "print(y.shape)"
      ],
      "execution_count": 0,
      "outputs": [
        {
          "output_type": "stream",
          "text": [
            "(26688, 14)\n",
            "(26688,)\n"
          ],
          "name": "stdout"
        }
      ]
    },
    {
      "cell_type": "markdown",
      "metadata": {
        "id": "WBnrh0u1rTtx",
        "colab_type": "text"
      },
      "source": [
        "We use an ordinal encoder to encode our categorical columns."
      ]
    },
    {
      "cell_type": "code",
      "metadata": {
        "id": "qgajeuLMqful",
        "colab_type": "code",
        "colab": {}
      },
      "source": [
        "from sklearn.preprocessing import OrdinalEncoder\n",
        "enc = OrdinalEncoder()\n",
        "X_new = enc.fit_transform(X,y)\n",
        "#y_new = enc.fit_transform(y)"
      ],
      "execution_count": 0,
      "outputs": []
    },
    {
      "cell_type": "markdown",
      "metadata": {
        "id": "fxVURtrLrhYf",
        "colab_type": "text"
      },
      "source": [
        "Next we scale our numerical features. "
      ]
    },
    {
      "cell_type": "code",
      "metadata": {
        "id": "HyTQshzt-q7s",
        "colab_type": "code",
        "colab": {}
      },
      "source": [
        "from sklearn.preprocessing import StandardScaler\n",
        "scaler = StandardScaler()\n",
        "X_scaled = pd.DataFrame(scaler.fit_transform(X_new,y))"
      ],
      "execution_count": 0,
      "outputs": []
    },
    {
      "cell_type": "markdown",
      "metadata": {
        "id": "3IkzOvG9rlM3",
        "colab_type": "text"
      },
      "source": [
        "Finally, we split our dataset into training and test sets. "
      ]
    },
    {
      "cell_type": "code",
      "metadata": {
        "id": "l4TgkGBk3jl-",
        "colab_type": "code",
        "outputId": "04f2c93f-7289-4b75-b135-790f4a30d510",
        "colab": {
          "base_uri": "https://localhost:8080/",
          "height": 51
        }
      },
      "source": [
        "from sklearn.model_selection import train_test_split\n",
        "X_train, X_test, y_train, y_test = train_test_split(X_scaled, y, test_size=0.2, random_state=42) \n",
        "print(X_train.shape,X_test.shape)\n",
        "print(y_train.shape,y_test.shape)"
      ],
      "execution_count": 0,
      "outputs": [
        {
          "output_type": "stream",
          "text": [
            "(21350, 14) (5338, 14)\n",
            "(21350,) (5338,)\n"
          ],
          "name": "stdout"
        }
      ]
    },
    {
      "cell_type": "markdown",
      "metadata": {
        "id": "O1A9R7Jndt9p",
        "colab_type": "text"
      },
      "source": [
        "## Model Selection\n",
        "\n",
        "For this purpose we will check out different classification algorithms and choose a relevant metric to test our models.\n",
        "Since we have imbalanced classes and our aim is to check for the income class we choose **accuracy**."
      ]
    },
    {
      "cell_type": "markdown",
      "metadata": {
        "id": "C46vTzGX90RF",
        "colab_type": "text"
      },
      "source": [
        "### Logistic Regression"
      ]
    },
    {
      "cell_type": "code",
      "metadata": {
        "id": "V-93QspC5bXt",
        "colab_type": "code",
        "outputId": "3548d9bd-34e5-43d0-efd0-209b40db563a",
        "colab": {
          "base_uri": "https://localhost:8080/",
          "height": 51
        }
      },
      "source": [
        "from sklearn.linear_model import LogisticRegression\n",
        "lr = LogisticRegression()\n",
        "model_lr = lr.fit(X_train,y_train)\n",
        "y_pred_lr = lr.predict(X_test)\n",
        "from sklearn.metrics import confusion_matrix,classification_report\n",
        "confusion_matrix(y_test,y_pred_lr)"
      ],
      "execution_count": 0,
      "outputs": [
        {
          "output_type": "execute_result",
          "data": {
            "text/plain": [
              "array([[3772,  248],\n",
              "       [ 728,  590]])"
            ]
          },
          "metadata": {
            "tags": []
          },
          "execution_count": 21
        }
      ]
    },
    {
      "cell_type": "markdown",
      "metadata": {
        "id": "Yqj-eQA9DOQb",
        "colab_type": "text"
      },
      "source": [
        "This doesn't really look that pretty so let's fix it up a little."
      ]
    },
    {
      "cell_type": "code",
      "metadata": {
        "id": "JSIfvz1f-RU_",
        "colab_type": "code",
        "outputId": "5eb6d539-246a-481b-de82-1af9d9a7e0d7",
        "colab": {
          "base_uri": "https://localhost:8080/",
          "height": 295
        }
      },
      "source": [
        "from sklearn.metrics import plot_confusion_matrix\n",
        "plot_confusion_matrix(lr,X_test,y_test,\n",
        "                      cmap=plt.cm.Blues,\n",
        "                      values_format='g')\n",
        "plt.title('Logistic Regression Confusion Matrix')\n",
        "plt.show()"
      ],
      "execution_count": 0,
      "outputs": [
        {
          "output_type": "display_data",
          "data": {
            "image/png": "[encoded data removed]",
            "text/plain": [
              "<Figure size 432x288 with 2 Axes>"
            ]
          },
          "metadata": {
            "tags": [],
            "needs_background": "light"
          }
        }
      ]
    },
    {
      "cell_type": "markdown",
      "metadata": {
        "id": "Ku5Z1maWFLFD",
        "colab_type": "text"
      },
      "source": [
        "Now let's have a look at the classification report for Logistic Regression"
      ]
    },
    {
      "cell_type": "code",
      "metadata": {
        "id": "6ha9e2S1EEz7",
        "colab_type": "code",
        "outputId": "00f050cd-7025-4856-8f61-8da3273db5f0",
        "colab": {
          "base_uri": "https://localhost:8080/",
          "height": 170
        }
      },
      "source": [
        "print(classification_report(y_test,y_pred_lr,labels=['<=50K','>50K']))"
      ],
      "execution_count": 0,
      "outputs": [
        {
          "output_type": "stream",
          "text": [
            "              precision    recall  f1-score   support\n",
            "\n",
            "       <=50K       0.84      0.94      0.89      4020\n",
            "        >50K       0.70      0.45      0.55      1318\n",
            "\n",
            "    accuracy                           0.82      5338\n",
            "   macro avg       0.77      0.69      0.72      5338\n",
            "weighted avg       0.81      0.82      0.80      5338\n",
            "\n"
          ],
          "name": "stdout"
        }
      ]
    },
    {
      "cell_type": "markdown",
      "metadata": {
        "id": "Ath4w8FIGQo5",
        "colab_type": "text"
      },
      "source": [
        "Therefore for Logistic Regression we obtain an accuracy of **0.82**"
      ]
    },
    {
      "cell_type": "markdown",
      "metadata": {
        "id": "MSnDam8RQuTJ",
        "colab_type": "text"
      },
      "source": [
        "### Gaussian Naive Bayes"
      ]
    },
    {
      "cell_type": "code",
      "metadata": {
        "id": "Xny9_Cc6Q0IU",
        "colab_type": "code",
        "outputId": "aed2cde7-713b-42b0-e5fe-afc0b0111d2c",
        "colab": {
          "base_uri": "https://localhost:8080/",
          "height": 295
        }
      },
      "source": [
        "from sklearn.naive_bayes import GaussianNB\n",
        "gnb = GaussianNB()\n",
        "model_gnb = gnb.fit(X_train,y_train)\n",
        "y_pred_gnb = gnb.predict(X_test)\n",
        "plot_confusion_matrix(gnb,X_test,y_test,\n",
        "                      cmap=plt.cm.Blues,\n",
        "                      values_format='g')\n",
        "plt.title('Gaussian Naive Bayes Confusion Matrix')\n",
        "plt.show()"
      ],
      "execution_count": 0,
      "outputs": [
        {
          "output_type": "display_data",
          "data": {
            "image/png": "[encoded data removed]",
            "text/plain": [
              "<Figure size 432x288 with 2 Axes>"
            ]
          },
          "metadata": {
            "tags": [],
            "needs_background": "light"
          }
        }
      ]
    },
    {
      "cell_type": "code",
      "metadata": {
        "id": "WsWmFAfyRFEM",
        "colab_type": "code",
        "outputId": "67875315-d6a1-4c9f-95cb-3352fe58c7b6",
        "colab": {
          "base_uri": "https://localhost:8080/",
          "height": 170
        }
      },
      "source": [
        "print(classification_report(y_test,y_pred_gnb,labels=['<=50K','>50K']))"
      ],
      "execution_count": 0,
      "outputs": [
        {
          "output_type": "stream",
          "text": [
            "              precision    recall  f1-score   support\n",
            "\n",
            "       <=50K       0.84      0.92      0.88      4020\n",
            "        >50K       0.65      0.46      0.54      1318\n",
            "\n",
            "    accuracy                           0.81      5338\n",
            "   macro avg       0.74      0.69      0.71      5338\n",
            "weighted avg       0.79      0.81      0.79      5338\n",
            "\n"
          ],
          "name": "stdout"
        }
      ]
    },
    {
      "cell_type": "markdown",
      "metadata": {
        "id": "W99h1lCeRMIV",
        "colab_type": "text"
      },
      "source": [
        "Gaussian NB Classifier has an accuracy of **0.82**"
      ]
    },
    {
      "cell_type": "markdown",
      "metadata": {
        "id": "UX6l31usKIHt",
        "colab_type": "text"
      },
      "source": [
        "### Stochastic Gradient Descent\n"
      ]
    },
    {
      "cell_type": "code",
      "metadata": {
        "id": "D6NNw3dSJXh5",
        "colab_type": "code",
        "outputId": "faa6b719-87f9-4696-8da5-8c8c3ed4078f",
        "colab": {
          "base_uri": "https://localhost:8080/",
          "height": 295
        }
      },
      "source": [
        "from sklearn.linear_model import SGDClassifier\n",
        "sgd = SGDClassifier()\n",
        "model_sgd = sgd.fit(X_train,y_train)\n",
        "y_pred_sgd = sgd.predict(X_test)\n",
        "plot_confusion_matrix(sgd,X_test,y_test,\n",
        "                      cmap=plt.cm.Blues,\n",
        "                      values_format='g')\n",
        "plt.title('Stochastic Gradient Descent Confusion Matrix')\n",
        "plt.show()"
      ],
      "execution_count": 0,
      "outputs": [
        {
          "output_type": "display_data",
          "data": {
            "image/png": "[encoded data removed]",
            "text/plain": [
              "<Figure size 432x288 with 2 Axes>"
            ]
          },
          "metadata": {
            "tags": [],
            "needs_background": "light"
          }
        }
      ]
    },
    {
      "cell_type": "code",
      "metadata": {
        "id": "bdAzHmPKLmA5",
        "colab_type": "code",
        "outputId": "d461ca1b-a478-4178-b8f9-f0f066710e39",
        "colab": {
          "base_uri": "https://localhost:8080/",
          "height": 170
        }
      },
      "source": [
        "print(classification_report(y_test,y_pred_sgd,labels=['<=50K','>50K']))"
      ],
      "execution_count": 0,
      "outputs": [
        {
          "output_type": "stream",
          "text": [
            "              precision    recall  f1-score   support\n",
            "\n",
            "       <=50K       0.82      0.95      0.88      4020\n",
            "        >50K       0.72      0.36      0.48      1318\n",
            "\n",
            "    accuracy                           0.81      5338\n",
            "   macro avg       0.77      0.66      0.68      5338\n",
            "weighted avg       0.80      0.81      0.78      5338\n",
            "\n"
          ],
          "name": "stdout"
        }
      ]
    },
    {
      "cell_type": "markdown",
      "metadata": {
        "id": "opASsBzbPZH6",
        "colab_type": "text"
      },
      "source": [
        "Our SGD Classifier gives us an accuracy of **0.81**"
      ]
    },
    {
      "cell_type": "markdown",
      "metadata": {
        "id": "qkcg2CgWPyyd",
        "colab_type": "text"
      },
      "source": [
        "### K-Nearest Neighbors"
      ]
    },
    {
      "cell_type": "code",
      "metadata": {
        "id": "ltioqofTP0_i",
        "colab_type": "code",
        "outputId": "1c679200-1d1b-4f06-da00-21e69aaf0109",
        "colab": {
          "base_uri": "https://localhost:8080/",
          "height": 295
        }
      },
      "source": [
        "from sklearn.neighbors import KNeighborsClassifier\n",
        "knn = KNeighborsClassifier()\n",
        "model_knn = knn.fit(X_train,y_train)\n",
        "y_pred_knn = knn.predict(X_test)\n",
        "plot_confusion_matrix(knn,X_test,y_test,\n",
        "                      cmap=plt.cm.Blues,\n",
        "                      values_format='g')\n",
        "plt.title('K-Nearest Neighbors Confusion Matrix')\n",
        "plt.show()"
      ],
      "execution_count": 0,
      "outputs": [
        {
          "output_type": "display_data",
          "data": {
            "image/png": "[encoded data removed]",
            "text/plain": [
              "<Figure size 432x288 with 2 Axes>"
            ]
          },
          "metadata": {
            "tags": [],
            "needs_background": "light"
          }
        }
      ]
    },
    {
      "cell_type": "code",
      "metadata": {
        "id": "e5HQ3ZORQD5A",
        "colab_type": "code",
        "outputId": "ad15badf-2d9d-4b9b-de99-01df8dd35b33",
        "colab": {
          "base_uri": "https://localhost:8080/",
          "height": 170
        }
      },
      "source": [
        "print(classification_report(y_test,y_pred_knn,labels=['<=50K','>50K']))"
      ],
      "execution_count": 0,
      "outputs": [
        {
          "output_type": "stream",
          "text": [
            "              precision    recall  f1-score   support\n",
            "\n",
            "       <=50K       0.88      0.90      0.89      4020\n",
            "        >50K       0.66      0.63      0.64      1318\n",
            "\n",
            "    accuracy                           0.83      5338\n",
            "   macro avg       0.77      0.76      0.76      5338\n",
            "weighted avg       0.83      0.83      0.83      5338\n",
            "\n"
          ],
          "name": "stdout"
        }
      ]
    },
    {
      "cell_type": "markdown",
      "metadata": {
        "id": "pD5MCr1TQN6z",
        "colab_type": "text"
      },
      "source": [
        "The KNN Classifier has an accuracy of **0.83**"
      ]
    },
    {
      "cell_type": "markdown",
      "metadata": {
        "id": "fgSov460RgVK",
        "colab_type": "text"
      },
      "source": [
        "### Bernoulli Naive Bayes"
      ]
    },
    {
      "cell_type": "code",
      "metadata": {
        "id": "lbJ_NDuwRiu_",
        "colab_type": "code",
        "outputId": "d7a7fdd2-5b52-4c56-d3ed-3002780beb7b",
        "colab": {
          "base_uri": "https://localhost:8080/",
          "height": 295
        }
      },
      "source": [
        "from sklearn.naive_bayes import BernoulliNB\n",
        "bnb = BernoulliNB()\n",
        "model_bnb = bnb.fit(X_train,y_train)\n",
        "y_pred_bnb = bnb.predict(X_test)\n",
        "plot_confusion_matrix(bnb,X_test,y_test,\n",
        "                      cmap=plt.cm.Blues,\n",
        "                      values_format='g')\n",
        "plt.title('Bernoulli Naive Bayes Confusion Matrix')\n",
        "plt.show()"
      ],
      "execution_count": 0,
      "outputs": [
        {
          "output_type": "display_data",
          "data": {
            "image/png": "[encoded data removed]",
            "text/plain": [
              "<Figure size 432x288 with 2 Axes>"
            ]
          },
          "metadata": {
            "tags": [],
            "needs_background": "light"
          }
        }
      ]
    },
    {
      "cell_type": "code",
      "metadata": {
        "id": "QSlR3Ml9RsGt",
        "colab_type": "code",
        "outputId": "3457db1f-b7e9-449d-f4b7-b9d3cd40a045",
        "colab": {
          "base_uri": "https://localhost:8080/",
          "height": 170
        }
      },
      "source": [
        "print(classification_report(y_test,y_pred_bnb,labels=['<=50K','>50K']))"
      ],
      "execution_count": 0,
      "outputs": [
        {
          "output_type": "stream",
          "text": [
            "              precision    recall  f1-score   support\n",
            "\n",
            "       <=50K       0.86      0.86      0.86      4020\n",
            "        >50K       0.57      0.58      0.58      1318\n",
            "\n",
            "    accuracy                           0.79      5338\n",
            "   macro avg       0.72      0.72      0.72      5338\n",
            "weighted avg       0.79      0.79      0.79      5338\n",
            "\n"
          ],
          "name": "stdout"
        }
      ]
    },
    {
      "cell_type": "markdown",
      "metadata": {
        "id": "P0dSU76wRxQj",
        "colab_type": "text"
      },
      "source": [
        "The Bernoulli Naive Bayes has an accuracy of **0.80**"
      ]
    },
    {
      "cell_type": "markdown",
      "metadata": {
        "id": "-00dYtbeHMgb",
        "colab_type": "text"
      },
      "source": [
        "### Support Vector Machine"
      ]
    },
    {
      "cell_type": "code",
      "metadata": {
        "id": "WEDn5BaEFYFE",
        "colab_type": "code",
        "outputId": "52ec390b-fe7b-467b-fba7-77147a1130f8",
        "colab": {
          "base_uri": "https://localhost:8080/",
          "height": 295
        }
      },
      "source": [
        "from sklearn.svm import SVC\n",
        "svm  = SVC()\n",
        "model_svm = svm.fit(X_train,y_train)\n",
        "y_pred_svm = svm.predict(X_test)\n",
        "plot_confusion_matrix(svm,X_test,y_test,\n",
        "                      cmap=plt.cm.Blues,\n",
        "                      values_format='g')\n",
        "plt.title('Support Vector Machine Confusion Matrix')\n",
        "plt.show()"
      ],
      "execution_count": 0,
      "outputs": [
        {
          "output_type": "display_data",
          "data": {
            "image/png": "[encoded data removed]",
            "text/plain": [
              "<Figure size 432x288 with 2 Axes>"
            ]
          },
          "metadata": {
            "tags": [],
            "needs_background": "light"
          }
        }
      ]
    },
    {
      "cell_type": "code",
      "metadata": {
        "id": "PAPL84qhLZlL",
        "colab_type": "code",
        "outputId": "cf4c6ca9-a26c-4491-ab37-bd287586a4fa",
        "colab": {
          "base_uri": "https://localhost:8080/",
          "height": 170
        }
      },
      "source": [
        "print(classification_report(y_test,y_pred_svm,labels=['<=50K','>50K']))"
      ],
      "execution_count": 0,
      "outputs": [
        {
          "output_type": "stream",
          "text": [
            "              precision    recall  f1-score   support\n",
            "\n",
            "       <=50K       0.86      0.94      0.90      4020\n",
            "        >50K       0.76      0.54      0.63      1318\n",
            "\n",
            "    accuracy                           0.84      5338\n",
            "   macro avg       0.81      0.74      0.77      5338\n",
            "weighted avg       0.84      0.84      0.83      5338\n",
            "\n"
          ],
          "name": "stdout"
        }
      ]
    },
    {
      "cell_type": "markdown",
      "metadata": {
        "id": "mUp1ticNJ-l3",
        "colab_type": "text"
      },
      "source": [
        "Our SVM classifier does much better and obtains an accuracy of **0.85**"
      ]
    },
    {
      "cell_type": "markdown",
      "metadata": {
        "id": "fVCW8tsdS5G0",
        "colab_type": "text"
      },
      "source": [
        "### Decision Tree"
      ]
    },
    {
      "cell_type": "code",
      "metadata": {
        "id": "j6-OBViHS8bz",
        "colab_type": "code",
        "outputId": "bd26f594-7cbc-4766-df03-fed988305c56",
        "colab": {
          "base_uri": "https://localhost:8080/",
          "height": 295
        }
      },
      "source": [
        "from sklearn.tree import DecisionTreeClassifier\n",
        "dtc  = DecisionTreeClassifier()\n",
        "model_dtc = dtc.fit(X_train,y_train)\n",
        "y_pred_dtc = dtc.predict(X_test)\n",
        "plot_confusion_matrix(dtc,X_test,y_test,\n",
        "                      cmap=plt.cm.Blues,\n",
        "                      values_format='g')\n",
        "plt.title('Decision Tree Confusion Matrix')\n",
        "plt.show()"
      ],
      "execution_count": 0,
      "outputs": [
        {
          "output_type": "display_data",
          "data": {
            "image/png": "[encoded data removed]",
            "text/plain": [
              "<Figure size 432x288 with 2 Axes>"
            ]
          },
          "metadata": {
            "tags": [],
            "needs_background": "light"
          }
        }
      ]
    },
    {
      "cell_type": "code",
      "metadata": {
        "id": "FKG7kfIrTUSr",
        "colab_type": "code",
        "outputId": "02eb26d4-d6df-49f3-f29c-f4fedab3b05d",
        "colab": {
          "base_uri": "https://localhost:8080/",
          "height": 170
        }
      },
      "source": [
        "print(classification_report(y_test,y_pred_dtc,labels=['<=50K','>50K']))"
      ],
      "execution_count": 0,
      "outputs": [
        {
          "output_type": "stream",
          "text": [
            "              precision    recall  f1-score   support\n",
            "\n",
            "       <=50K       0.87      0.87      0.87      4020\n",
            "        >50K       0.60      0.60      0.60      1318\n",
            "\n",
            "    accuracy                           0.80      5338\n",
            "   macro avg       0.73      0.73      0.73      5338\n",
            "weighted avg       0.80      0.80      0.80      5338\n",
            "\n"
          ],
          "name": "stdout"
        }
      ]
    },
    {
      "cell_type": "markdown",
      "metadata": {
        "id": "oy_GZ1WuTY6b",
        "colab_type": "text"
      },
      "source": [
        "Decision Tree classifier has an accuracy of **0.81**"
      ]
    },
    {
      "cell_type": "markdown",
      "metadata": {
        "id": "CZmXnuurTdiA",
        "colab_type": "text"
      },
      "source": [
        "### Random Forest"
      ]
    },
    {
      "cell_type": "code",
      "metadata": {
        "id": "0siLewfqTf9b",
        "colab_type": "code",
        "outputId": "057d7669-7fbf-4743-dc5c-9cad9cf7c287",
        "colab": {
          "base_uri": "https://localhost:8080/",
          "height": 295
        }
      },
      "source": [
        "from sklearn.ensemble import RandomForestClassifier\n",
        "rfc  = RandomForestClassifier()\n",
        "model_rfc = rfc.fit(X_train,y_train)\n",
        "y_pred_rfc = rfc.predict(X_test)\n",
        "plot_confusion_matrix(rfc,X_test,y_test,\n",
        "                      cmap=plt.cm.Blues,\n",
        "                      values_format='g')\n",
        "plt.title('Random Forest Confusion Matrix')\n",
        "plt.show()"
      ],
      "execution_count": 0,
      "outputs": [
        {
          "output_type": "display_data",
          "data": {
            "image/png": "[encoded data removed]",
            "text/plain": [
              "<Figure size 432x288 with 2 Axes>"
            ]
          },
          "metadata": {
            "tags": [],
            "needs_background": "light"
          }
        }
      ]
    },
    {
      "cell_type": "code",
      "metadata": {
        "id": "xHJIRPwuTtvC",
        "colab_type": "code",
        "outputId": "85df317c-cdab-4c65-fd15-5e4b17e4f69c",
        "colab": {
          "base_uri": "https://localhost:8080/",
          "height": 170
        }
      },
      "source": [
        "print(classification_report(y_test,y_pred_rfc,labels=['<=50K','>50K']))"
      ],
      "execution_count": 0,
      "outputs": [
        {
          "output_type": "stream",
          "text": [
            "              precision    recall  f1-score   support\n",
            "\n",
            "       <=50K       0.88      0.93      0.90      4020\n",
            "        >50K       0.74      0.61      0.67      1318\n",
            "\n",
            "    accuracy                           0.85      5338\n",
            "   macro avg       0.81      0.77      0.79      5338\n",
            "weighted avg       0.84      0.85      0.84      5338\n",
            "\n"
          ],
          "name": "stdout"
        }
      ]
    },
    {
      "cell_type": "markdown",
      "metadata": {
        "id": "NxiBAE5zTvqp",
        "colab_type": "text"
      },
      "source": [
        "Random Forest classifier has an accuracy of **0.86**"
      ]
    },
    {
      "cell_type": "markdown",
      "metadata": {
        "id": "CGeb2EWU1LVa",
        "colab_type": "text"
      },
      "source": [
        "### Extra Trees Classifier"
      ]
    },
    {
      "cell_type": "code",
      "metadata": {
        "id": "DnRsEu501Q8y",
        "colab_type": "code",
        "outputId": "31dbefec-3c08-487b-d82e-7ee4a63a29ad",
        "colab": {
          "base_uri": "https://localhost:8080/",
          "height": 295
        }
      },
      "source": [
        "from sklearn.ensemble import ExtraTreesClassifier\n",
        "etc  = ExtraTreesClassifier()\n",
        "model_etc = etc.fit(X_train,y_train)\n",
        "y_pred_etc = etc.predict(X_test)\n",
        "plot_confusion_matrix(etc,X_test,y_test,\n",
        "                      cmap=plt.cm.Blues,\n",
        "                      values_format='g')\n",
        "plt.title('Extra Trees Classifier Confusion Matrix')\n",
        "plt.show()"
      ],
      "execution_count": 0,
      "outputs": [
        {
          "output_type": "display_data",
          "data": {
            "image/png": "[encoded data removed]",
            "text/plain": [
              "<Figure size 432x288 with 2 Axes>"
            ]
          },
          "metadata": {
            "tags": [],
            "needs_background": "light"
          }
        }
      ]
    },
    {
      "cell_type": "code",
      "metadata": {
        "id": "O9mVOhhU1j4O",
        "colab_type": "code",
        "outputId": "8004fb92-315b-4e10-f0ac-d388728ed481",
        "colab": {
          "base_uri": "https://localhost:8080/",
          "height": 170
        }
      },
      "source": [
        "print(classification_report(y_test,y_pred_etc,labels=['<=50K','>50K']))"
      ],
      "execution_count": 0,
      "outputs": [
        {
          "output_type": "stream",
          "text": [
            "              precision    recall  f1-score   support\n",
            "\n",
            "       <=50K       0.88      0.92      0.90      4020\n",
            "        >50K       0.71      0.61      0.66      1318\n",
            "\n",
            "    accuracy                           0.84      5338\n",
            "   macro avg       0.80      0.77      0.78      5338\n",
            "weighted avg       0.84      0.84      0.84      5338\n",
            "\n"
          ],
          "name": "stdout"
        }
      ]
    },
    {
      "cell_type": "markdown",
      "metadata": {
        "id": "mWlQ9NxC2EE8",
        "colab_type": "text"
      },
      "source": [
        "The Extra Trees Classifier has an accuracy of **0.85**"
      ]
    },
    {
      "cell_type": "markdown",
      "metadata": {
        "id": "nUHIR9EWT9ir",
        "colab_type": "text"
      },
      "source": [
        "### AdaBoost Classifier"
      ]
    },
    {
      "cell_type": "code",
      "metadata": {
        "id": "c1AMtKF_T_m6",
        "colab_type": "code",
        "outputId": "a9b0afd0-566c-4428-ffa1-028926c3b807",
        "colab": {
          "base_uri": "https://localhost:8080/",
          "height": 295
        }
      },
      "source": [
        "from sklearn.ensemble import AdaBoostClassifier\n",
        "ada  = AdaBoostClassifier()\n",
        "model_ada = ada.fit(X_train,y_train)\n",
        "y_pred_ada = ada.predict(X_test)\n",
        "plot_confusion_matrix(ada,X_test,y_test,\n",
        "                      cmap=plt.cm.Blues,\n",
        "                      values_format='g')\n",
        "plt.title('AdaBoost Confusion Matrix')\n",
        "plt.show()"
      ],
      "execution_count": 0,
      "outputs": [
        {
          "output_type": "display_data",
          "data": {
            "image/png": "[encoded data removed]",
            "text/plain": [
              "<Figure size 432x288 with 2 Axes>"
            ]
          },
          "metadata": {
            "tags": [],
            "needs_background": "light"
          }
        }
      ]
    },
    {
      "cell_type": "code",
      "metadata": {
        "id": "8-nMwL1VUWCn",
        "colab_type": "code",
        "outputId": "c53bbd84-3d53-4f4b-a226-4dc26e4d91a4",
        "colab": {
          "base_uri": "https://localhost:8080/",
          "height": 170
        }
      },
      "source": [
        "print(classification_report(y_test,y_pred_ada,labels=['<=50K','>50K']))"
      ],
      "execution_count": 0,
      "outputs": [
        {
          "output_type": "stream",
          "text": [
            "              precision    recall  f1-score   support\n",
            "\n",
            "       <=50K       0.88      0.94      0.91      4020\n",
            "        >50K       0.77      0.60      0.67      1318\n",
            "\n",
            "    accuracy                           0.86      5338\n",
            "   macro avg       0.82      0.77      0.79      5338\n",
            "weighted avg       0.85      0.86      0.85      5338\n",
            "\n"
          ],
          "name": "stdout"
        }
      ]
    },
    {
      "cell_type": "markdown",
      "metadata": {
        "id": "yXsTghlWUbQL",
        "colab_type": "text"
      },
      "source": [
        "The AdaBoost classifier has an accuracy of **0.86**"
      ]
    },
    {
      "cell_type": "markdown",
      "metadata": {
        "id": "7g8l2MnE3TCe",
        "colab_type": "text"
      },
      "source": [
        "### Bagging Classifier"
      ]
    },
    {
      "cell_type": "code",
      "metadata": {
        "id": "fDh6jc6q3U-s",
        "colab_type": "code",
        "outputId": "b87bbffc-7b9a-4d42-83cb-482e5d2baa24",
        "colab": {
          "base_uri": "https://localhost:8080/",
          "height": 295
        }
      },
      "source": [
        "from sklearn.ensemble import BaggingClassifier\n",
        "bc  = BaggingClassifier()\n",
        "model_bc = bc.fit(X_train,y_train)\n",
        "y_pred_bc = bc.predict(X_test)\n",
        "plot_confusion_matrix(bc,X_test,y_test,\n",
        "                      cmap=plt.cm.Blues,\n",
        "                      values_format='g')\n",
        "plt.title('Bagging Classifier Confusion Matrix')\n",
        "plt.show()"
      ],
      "execution_count": 0,
      "outputs": [
        {
          "output_type": "display_data",
          "data": {
            "image/png": "[encoded data removed]",
            "text/plain": [
              "<Figure size 432x288 with 2 Axes>"
            ]
          },
          "metadata": {
            "tags": [],
            "needs_background": "light"
          }
        }
      ]
    },
    {
      "cell_type": "code",
      "metadata": {
        "id": "UQ_ivFeB3kRX",
        "colab_type": "code",
        "outputId": "7b8d8bfb-112a-41fe-c503-ae1b5e40fa11",
        "colab": {
          "base_uri": "https://localhost:8080/",
          "height": 170
        }
      },
      "source": [
        "print(classification_report(y_test,y_pred_bc,labels=['<=50K','>50K']))"
      ],
      "execution_count": 0,
      "outputs": [
        {
          "output_type": "stream",
          "text": [
            "              precision    recall  f1-score   support\n",
            "\n",
            "       <=50K       0.87      0.93      0.90      4020\n",
            "        >50K       0.72      0.57      0.64      1318\n",
            "\n",
            "    accuracy                           0.84      5338\n",
            "   macro avg       0.80      0.75      0.77      5338\n",
            "weighted avg       0.83      0.84      0.83      5338\n",
            "\n"
          ],
          "name": "stdout"
        }
      ]
    },
    {
      "cell_type": "markdown",
      "metadata": {
        "id": "Q5HUoOfB3v7X",
        "colab_type": "text"
      },
      "source": [
        "The AdaBoost classifier has an accuracy of **0.85**"
      ]
    },
    {
      "cell_type": "markdown",
      "metadata": {
        "id": "o1m98o3R2LkG",
        "colab_type": "text"
      },
      "source": [
        "### Gradient Boosting Classifier"
      ]
    },
    {
      "cell_type": "code",
      "metadata": {
        "id": "_sc73ISV2RZH",
        "colab_type": "code",
        "outputId": "7c0ef3b2-64b9-41f4-a0ef-0252f2334104",
        "colab": {
          "base_uri": "https://localhost:8080/",
          "height": 295
        }
      },
      "source": [
        "from sklearn.ensemble import GradientBoostingClassifier\n",
        "gbc  = GradientBoostingClassifier()\n",
        "model_gbc = gbc.fit(X_train,y_train)\n",
        "y_pred_gbc = gbc.predict(X_test)\n",
        "plot_confusion_matrix(gbc,X_test,y_test,\n",
        "                      cmap=plt.cm.Blues,\n",
        "                      values_format='g')\n",
        "plt.title('Gradient Boosting Classifier Confusion Matrix')\n",
        "plt.show()"
      ],
      "execution_count": 0,
      "outputs": [
        {
          "output_type": "display_data",
          "data": {
            "image/png": "[encoded data removed]",
            "text/plain": [
              "<Figure size 432x288 with 2 Axes>"
            ]
          },
          "metadata": {
            "tags": [],
            "needs_background": "light"
          }
        }
      ]
    },
    {
      "cell_type": "code",
      "metadata": {
        "id": "qV-Pj5Q02c7F",
        "colab_type": "code",
        "outputId": "880a8f78-29cb-45e0-c48b-e783496c7a24",
        "colab": {
          "base_uri": "https://localhost:8080/",
          "height": 170
        }
      },
      "source": [
        "print(classification_report(y_test,y_pred_gbc,labels=['<=50K','>50K']))"
      ],
      "execution_count": 0,
      "outputs": [
        {
          "output_type": "stream",
          "text": [
            "              precision    recall  f1-score   support\n",
            "\n",
            "       <=50K       0.88      0.95      0.91      4020\n",
            "        >50K       0.80      0.59      0.68      1318\n",
            "\n",
            "    accuracy                           0.86      5338\n",
            "   macro avg       0.84      0.77      0.80      5338\n",
            "weighted avg       0.86      0.86      0.86      5338\n",
            "\n"
          ],
          "name": "stdout"
        }
      ]
    },
    {
      "cell_type": "markdown",
      "metadata": {
        "id": "7gnauqtd28xK",
        "colab_type": "text"
      },
      "source": [
        "Our Gradient Boosting Classifier gives us an accuracy of **0.87**"
      ]
    },
    {
      "cell_type": "markdown",
      "metadata": {
        "id": "iUE-j8KnxXEj",
        "colab_type": "text"
      },
      "source": [
        "## Ensemble ML Models\n",
        "We observe that our Gradient Booster, AdaBoost and Random Forest Classifiers gave the best accuracies. So now we try and create an ensemble model and test it on our data.\n"
      ]
    },
    {
      "cell_type": "code",
      "metadata": {
        "id": "FhR9xtti6mPy",
        "colab_type": "code",
        "outputId": "062d05eb-5caf-47cb-cfd1-1ca193802348",
        "colab": {
          "base_uri": "https://localhost:8080/",
          "height": 51
        }
      },
      "source": [
        "from sklearn.ensemble import VotingClassifier\n",
        "from sklearn.model_selection import cross_val_score, KFold\n",
        "cv = KFold(n_splits=10,shuffle=True)\n",
        "estimators = [('gbc',gbc),('ada',ada),('rfc',rfc)]\n",
        "ensemble = VotingClassifier(estimators)\n",
        "results = cross_val_score(ensemble, X_scaled, y, cv=cv)\n",
        "print(results)"
      ],
      "execution_count": 0,
      "outputs": [
        {
          "output_type": "stream",
          "text": [
            "[0.85837392 0.85013114 0.86399401 0.87148745 0.85237917 0.86661671\n",
            " 0.84451105 0.86736605 0.86131934 0.8541979 ]\n"
          ],
          "name": "stdout"
        }
      ]
    },
    {
      "cell_type": "code",
      "metadata": {
        "id": "MHuitzsd7gI1",
        "colab_type": "code",
        "outputId": "8748f8c3-8e96-4d47-c228-24e1acc6f3ca",
        "colab": {
          "base_uri": "https://localhost:8080/",
          "height": 34
        }
      },
      "source": [
        "print(np.mean(results))"
      ],
      "execution_count": 0,
      "outputs": [
        {
          "output_type": "stream",
          "text": [
            "0.8590376739318615\n"
          ],
          "name": "stdout"
        }
      ]
    },
    {
      "cell_type": "markdown",
      "metadata": {
        "id": "nAWSPfeh-aSc",
        "colab_type": "text"
      },
      "source": [
        "The accuracy of our ensemble method is slightly less than that of the Gradient Booster Classifier so we perform a Grid Search to find its best parameters. "
      ]
    },
    {
      "cell_type": "markdown",
      "metadata": {
        "id": "hnBIAmL4lkxA",
        "colab_type": "text"
      },
      "source": [
        "## Grid Search \n",
        "Now we perform a Grid Search to find our best parameters and we make use of *n_estimators*, *max_features* and the *learning_rate*. "
      ]
    },
    {
      "cell_type": "code",
      "metadata": {
        "id": "uALwfNZnonGh",
        "colab_type": "code",
        "outputId": "d3c3941f-696a-4666-c3ed-df694369736a",
        "colab": {
          "base_uri": "https://localhost:8080/",
          "height": 578
        }
      },
      "source": [
        "from sklearn.model_selection import GridSearchCV\n",
        "\n",
        "param_grid = [{\n",
        "        'n_estimators': [50,100,150,200],\n",
        "        'max_features': [6,7,8,9,10,11,12],\n",
        "        'learning_rate':[0.01,0.1,1,10,100]\n",
        "    }]\n",
        "\n",
        "grid_search = GridSearchCV(gbc, param_grid, cv=10,\n",
        "                           scoring='accuracy', verbose=2,\n",
        "                           return_train_score=True,n_jobs=-1)\n",
        "grid_search.fit(X_scaled,y)"
      ],
      "execution_count": 48,
      "outputs": [
        {
          "output_type": "stream",
          "text": [
            "Fitting 10 folds for each of 140 candidates, totalling 1400 fits\n"
          ],
          "name": "stdout"
        },
        {
          "output_type": "stream",
          "text": [
            "[Parallel(n_jobs=-1)]: Using backend LokyBackend with 2 concurrent workers.\n",
            "[Parallel(n_jobs=-1)]: Done  37 tasks      | elapsed:  1.1min\n",
            "[Parallel(n_jobs=-1)]: Done 158 tasks      | elapsed:  5.1min\n",
            "[Parallel(n_jobs=-1)]: Done 361 tasks      | elapsed: 12.6min\n",
            "[Parallel(n_jobs=-1)]: Done 644 tasks      | elapsed: 22.9min\n",
            "[Parallel(n_jobs=-1)]: Done 1009 tasks      | elapsed: 36.3min\n",
            "[Parallel(n_jobs=-1)]: Done 1400 out of 1400 | elapsed: 51.8min finished\n"
          ],
          "name": "stderr"
        },
        {
          "output_type": "execute_result",
          "data": {
            "text/plain": [
              "GridSearchCV(cv=10, error_score=nan,\n",
              "             estimator=GradientBoostingClassifier(ccp_alpha=0.0,\n",
              "                                                  criterion='friedman_mse',\n",
              "                                                  init=None, learning_rate=0.1,\n",
              "                                                  loss='deviance', max_depth=3,\n",
              "                                                  max_features=None,\n",
              "                                                  max_leaf_nodes=None,\n",
              "                                                  min_impurity_decrease=0.0,\n",
              "                                                  min_impurity_split=None,\n",
              "                                                  min_samples_leaf=1,\n",
              "                                                  min_samples_split=2,\n",
              "                                                  min_weight_fraction_leaf=0.0,\n",
              "                                                  n_estimators=100,\n",
              "                                                  n_iter_no_...e,\n",
              "                                                  presort='deprecated',\n",
              "                                                  random_state=None,\n",
              "                                                  subsample=1.0, tol=0.0001,\n",
              "                                                  validation_fraction=0.1,\n",
              "                                                  verbose=0, warm_start=False),\n",
              "             iid='deprecated', n_jobs=-1,\n",
              "             param_grid=[{'learning_rate': [0.01, 0.1, 1, 10, 100],\n",
              "                          'max_features': [6, 7, 8, 9, 10, 11, 12],\n",
              "                          'n_estimators': [50, 100, 150, 200]}],\n",
              "             pre_dispatch='2*n_jobs', refit=True, return_train_score=True,\n",
              "             scoring='accuracy', verbose=2)"
            ]
          },
          "metadata": {
            "tags": []
          },
          "execution_count": 48
        }
      ]
    },
    {
      "cell_type": "markdown",
      "metadata": {
        "id": "5crTPiLhp_xN",
        "colab_type": "text"
      },
      "source": [
        "The best parameters are:"
      ]
    },
    {
      "cell_type": "code",
      "metadata": {
        "id": "MiPqj-YzZF-V",
        "colab_type": "code",
        "colab": {
          "base_uri": "https://localhost:8080/",
          "height": 34
        },
        "outputId": "3353b7c6-67a6-4f1b-9087-345e0f7f609c"
      },
      "source": [
        "grid_search.best_params_"
      ],
      "execution_count": 49,
      "outputs": [
        {
          "output_type": "execute_result",
          "data": {
            "text/plain": [
              "{'learning_rate': 0.1, 'max_features': 11, 'n_estimators': 200}"
            ]
          },
          "metadata": {
            "tags": []
          },
          "execution_count": 49
        }
      ]
    },
    {
      "cell_type": "code",
      "metadata": {
        "id": "fVLBemKpY8s2",
        "colab_type": "code",
        "colab": {
          "base_uri": "https://localhost:8080/",
          "height": 187
        },
        "outputId": "6a8405d4-cf2c-48f3-d0c2-191d7eb81386"
      },
      "source": [
        "grid_search.best_estimator_"
      ],
      "execution_count": 50,
      "outputs": [
        {
          "output_type": "execute_result",
          "data": {
            "text/plain": [
              "GradientBoostingClassifier(ccp_alpha=0.0, criterion='friedman_mse', init=None,\n",
              "                           learning_rate=0.1, loss='deviance', max_depth=3,\n",
              "                           max_features=11, max_leaf_nodes=None,\n",
              "                           min_impurity_decrease=0.0, min_impurity_split=None,\n",
              "                           min_samples_leaf=1, min_samples_split=2,\n",
              "                           min_weight_fraction_leaf=0.0, n_estimators=200,\n",
              "                           n_iter_no_change=None, presort='deprecated',\n",
              "                           random_state=None, subsample=1.0, tol=0.0001,\n",
              "                           validation_fraction=0.1, verbose=0,\n",
              "                           warm_start=False)"
            ]
          },
          "metadata": {
            "tags": []
          },
          "execution_count": 50
        }
      ]
    },
    {
      "cell_type": "markdown",
      "metadata": {
        "id": "8pp2ZxHVqDk5",
        "colab_type": "text"
      },
      "source": [
        "The best score is:"
      ]
    },
    {
      "cell_type": "code",
      "metadata": {
        "id": "vgiY5trcZD8W",
        "colab_type": "code",
        "colab": {
          "base_uri": "https://localhost:8080/",
          "height": 34
        },
        "outputId": "a90d3142-8f8a-452d-ab34-f674a2c4e04c"
      },
      "source": [
        "grid_search.best_score_"
      ],
      "execution_count": 51,
      "outputs": [
        {
          "output_type": "execute_result",
          "data": {
            "text/plain": [
              "0.8662694364694762"
            ]
          },
          "metadata": {
            "tags": []
          },
          "execution_count": 51
        }
      ]
    },
    {
      "cell_type": "code",
      "metadata": {
        "id": "tstVKQv-as1R",
        "colab_type": "code",
        "colab": {
          "base_uri": "https://localhost:8080/",
          "height": 1000
        },
        "outputId": "0704b05a-8ca1-48f2-f00a-342192e3d103"
      },
      "source": [
        "cvres = grid_search.cv_results_\n",
        "for mean_score, params in zip(cvres['mean_test_score'], cvres['params']):\n",
        "    print(mean_score, params)"
      ],
      "execution_count": 57,
      "outputs": [
        {
          "output_type": "stream",
          "text": [
            "0.7720697631701197 {'learning_rate': 0.01, 'max_features': 6, 'n_estimators': 50}\n",
            "0.8082657341243206 {'learning_rate': 0.01, 'max_features': 6, 'n_estimators': 100}\n",
            "0.8375300453931895 {'learning_rate': 0.01, 'max_features': 6, 'n_estimators': 150}\n",
            "0.8418016450748025 {'learning_rate': 0.01, 'max_features': 6, 'n_estimators': 200}\n",
            "0.7739059235837308 {'learning_rate': 0.01, 'max_features': 7, 'n_estimators': 50}\n",
            "0.808265720081136 {'learning_rate': 0.01, 'max_features': 7, 'n_estimators': 100}\n",
            "0.8382793616305373 {'learning_rate': 0.01, 'max_features': 7, 'n_estimators': 150}\n",
            "0.84123949640017 {'learning_rate': 0.01, 'max_features': 7, 'n_estimators': 200}\n",
            "0.7783644520939231 {'learning_rate': 0.01, 'max_features': 8, 'n_estimators': 50}\n",
            "0.8083032013405063 {'learning_rate': 0.01, 'max_features': 8, 'n_estimators': 100}\n",
            "0.8381295629817161 {'learning_rate': 0.01, 'max_features': 8, 'n_estimators': 150}\n",
            "0.841314402746173 {'learning_rate': 0.01, 'max_features': 8, 'n_estimators': 200}\n",
            "0.7811751112079778 {'learning_rate': 0.01, 'max_features': 9, 'n_estimators': 50}\n",
            "0.8083032013405063 {'learning_rate': 0.01, 'max_features': 9, 'n_estimators': 100}\n",
            "0.8380546004629756 {'learning_rate': 0.01, 'max_features': 9, 'n_estimators': 150}\n",
            "0.8413518699623586 {'learning_rate': 0.01, 'max_features': 9, 'n_estimators': 200}\n",
            "0.7915535441346393 {'learning_rate': 0.01, 'max_features': 10, 'n_estimators': 50}\n",
            "0.809652007080012 {'learning_rate': 0.01, 'max_features': 10, 'n_estimators': 100}\n",
            "0.8376424329985624 {'learning_rate': 0.01, 'max_features': 10, 'n_estimators': 150}\n",
            "0.8409022633681286 {'learning_rate': 0.01, 'max_features': 10, 'n_estimators': 200}\n",
            "0.7954511316840642 {'learning_rate': 0.01, 'max_features': 11, 'n_estimators': 50}\n",
            "0.8168838398335488 {'learning_rate': 0.01, 'max_features': 11, 'n_estimators': 100}\n",
            "0.8380921659814529 {'learning_rate': 0.01, 'max_features': 11, 'n_estimators': 150}\n",
            "0.8414643558700231 {'learning_rate': 0.01, 'max_features': 11, 'n_estimators': 200}\n",
            "0.7964253214344494 {'learning_rate': 0.01, 'max_features': 12, 'n_estimators': 50}\n",
            "0.8211178599535002 {'learning_rate': 0.01, 'max_features': 12, 'n_estimators': 100}\n",
            "0.8382044974140881 {'learning_rate': 0.01, 'max_features': 12, 'n_estimators': 150}\n",
            "0.8415018371293934 {'learning_rate': 0.01, 'max_features': 12, 'n_estimators': 200}\n",
            "0.8497449898130739 {'learning_rate': 0.1, 'max_features': 6, 'n_estimators': 50}\n",
            "0.8581008109658173 {'learning_rate': 0.1, 'max_features': 6, 'n_estimators': 100}\n",
            "0.8625223356849114 {'learning_rate': 0.1, 'max_features': 6, 'n_estimators': 150}\n",
            "0.8646957712601175 {'learning_rate': 0.1, 'max_features': 6, 'n_estimators': 200}\n",
            "0.8507567310387518 {'learning_rate': 0.1, 'max_features': 7, 'n_estimators': 50}\n",
            "0.8586254502947103 {'learning_rate': 0.1, 'max_features': 7, 'n_estimators': 100}\n",
            "0.8622225979554246 {'learning_rate': 0.1, 'max_features': 7, 'n_estimators': 150}\n",
            "0.8642835335797818 {'learning_rate': 0.1, 'max_features': 7, 'n_estimators': 200}\n",
            "0.8513937158434646 {'learning_rate': 0.1, 'max_features': 8, 'n_estimators': 50}\n",
            "0.8583631516950405 {'learning_rate': 0.1, 'max_features': 8, 'n_estimators': 100}\n",
            "0.8622600651716106 {'learning_rate': 0.1, 'max_features': 8, 'n_estimators': 150}\n",
            "0.8653701671082781 {'learning_rate': 0.1, 'max_features': 8, 'n_estimators': 200}\n",
            "0.8525550731565652 {'learning_rate': 0.1, 'max_features': 9, 'n_estimators': 50}\n",
            "0.8594873086124603 {'learning_rate': 0.1, 'max_features': 9, 'n_estimators': 100}\n",
            "0.8633093438293967 {'learning_rate': 0.1, 'max_features': 9, 'n_estimators': 150}\n",
            "0.8657823486158754 {'learning_rate': 0.1, 'max_features': 9, 'n_estimators': 200}\n",
            "0.851206337632982 {'learning_rate': 0.1, 'max_features': 10, 'n_estimators': 50}\n",
            "0.8596745604342827 {'learning_rate': 0.1, 'max_features': 10, 'n_estimators': 100}\n",
            "0.8636464504727778 {'learning_rate': 0.1, 'max_features': 10, 'n_estimators': 150}\n",
            "0.8654825968432045 {'learning_rate': 0.1, 'max_features': 10, 'n_estimators': 200}\n",
            "0.8519932755615448 {'learning_rate': 0.1, 'max_features': 11, 'n_estimators': 50}\n",
            "0.8598619948175031 {'learning_rate': 0.1, 'max_features': 11, 'n_estimators': 100}\n",
            "0.8638338286832605 {'learning_rate': 0.1, 'max_features': 11, 'n_estimators': 150}\n",
            "0.8662694364694762 {'learning_rate': 0.1, 'max_features': 11, 'n_estimators': 200}\n",
            "0.8528924747068205 {'learning_rate': 0.1, 'max_features': 12, 'n_estimators': 50}\n",
            "0.8594871962669846 {'learning_rate': 0.1, 'max_features': 12, 'n_estimators': 100}\n",
            "0.8641335664127471 {'learning_rate': 0.1, 'max_features': 12, 'n_estimators': 150}\n",
            "0.8654450313247274 {'learning_rate': 0.1, 'max_features': 12, 'n_estimators': 200}\n",
            "0.8602741622819163 {'learning_rate': 1, 'max_features': 6, 'n_estimators': 50}\n",
            "0.8598247101627156 {'learning_rate': 1, 'max_features': 6, 'n_estimators': 100}\n",
            "0.8580259327061833 {'learning_rate': 1, 'max_features': 6, 'n_estimators': 150}\n",
            "0.8570520940354103 {'learning_rate': 1, 'max_features': 6, 'n_estimators': 200}\n",
            "0.8629720546246172 {'learning_rate': 1, 'max_features': 7, 'n_estimators': 50}\n",
            "0.860311769929947 {'learning_rate': 1, 'max_features': 7, 'n_estimators': 100}\n",
            "0.8569018740910549 {'learning_rate': 1, 'max_features': 7, 'n_estimators': 150}\n",
            "0.8578763025755762 {'learning_rate': 1, 'max_features': 7, 'n_estimators': 200}\n",
            "0.8609487687778442 {'learning_rate': 1, 'max_features': 8, 'n_estimators': 50}\n",
            "0.8597122804277891 {'learning_rate': 1, 'max_features': 8, 'n_estimators': 100}\n",
            "0.8573143785918955 {'learning_rate': 1, 'max_features': 8, 'n_estimators': 150}\n",
            "0.8546913083360905 {'learning_rate': 1, 'max_features': 8, 'n_estimators': 200}\n",
            "0.8621101963068671 {'learning_rate': 1, 'max_features': 9, 'n_estimators': 50}\n",
            "0.8601243917194644 {'learning_rate': 1, 'max_features': 9, 'n_estimators': 100}\n",
            "0.8567147205715239 {'learning_rate': 1, 'max_features': 9, 'n_estimators': 150}\n",
            "0.8544667156867426 {'learning_rate': 1, 'max_features': 9, 'n_estimators': 200}\n",
            "0.860873792215919 {'learning_rate': 1, 'max_features': 10, 'n_estimators': 50}\n",
            "0.8583632921268853 {'learning_rate': 1, 'max_features': 10, 'n_estimators': 100}\n",
            "0.8602744431456057 {'learning_rate': 1, 'max_features': 10, 'n_estimators': 150}\n",
            "0.8566398282687058 {'learning_rate': 1, 'max_features': 10, 'n_estimators': 200}\n",
            "0.8600494994166461 {'learning_rate': 1, 'max_features': 11, 'n_estimators': 50}\n",
            "0.8599743824228762 {'learning_rate': 1, 'max_features': 11, 'n_estimators': 100}\n",
            "0.8588505204123305 {'learning_rate': 1, 'max_features': 11, 'n_estimators': 150}\n",
            "0.8529300121389287 {'learning_rate': 1, 'max_features': 11, 'n_estimators': 200}\n",
            "0.860836465431578 {'learning_rate': 1, 'max_features': 12, 'n_estimators': 50}\n",
            "0.8594873507420138 {'learning_rate': 1, 'max_features': 12, 'n_estimators': 100}\n",
            "0.8566397159232298 {'learning_rate': 1, 'max_features': 12, 'n_estimators': 150}\n",
            "0.8539795435740354 {'learning_rate': 1, 'max_features': 12, 'n_estimators': 200}\n",
            "0.31201727255517986 {'learning_rate': 10, 'max_features': 6, 'n_estimators': 50}\n",
            "0.3819745616139102 {'learning_rate': 10, 'max_features': 6, 'n_estimators': 100}\n",
            "0.4557516389800604 {'learning_rate': 10, 'max_features': 6, 'n_estimators': 150}\n",
            "0.42981831489650457 {'learning_rate': 10, 'max_features': 6, 'n_estimators': 200}\n",
            "0.43960297389709047 {'learning_rate': 10, 'max_features': 7, 'n_estimators': 50}\n",
            "0.5321008519719158 {'learning_rate': 10, 'max_features': 7, 'n_estimators': 100}\n",
            "0.37396201206253377 {'learning_rate': 10, 'max_features': 7, 'n_estimators': 150}\n",
            "0.3304839899271046 {'learning_rate': 10, 'max_features': 7, 'n_estimators': 200}\n",
            "0.38477033495241886 {'learning_rate': 10, 'max_features': 8, 'n_estimators': 50}\n",
            "0.5482109825566798 {'learning_rate': 10, 'max_features': 8, 'n_estimators': 100}\n",
            "0.29668648253617663 {'learning_rate': 10, 'max_features': 8, 'n_estimators': 150}\n",
            "0.3607206653323769 {'learning_rate': 10, 'max_features': 8, 'n_estimators': 200}\n",
            "0.36514591149535763 {'learning_rate': 10, 'max_features': 9, 'n_estimators': 50}\n",
            "0.396832882734354 {'learning_rate': 10, 'max_features': 9, 'n_estimators': 100}\n",
            "0.33355206061263115 {'learning_rate': 10, 'max_features': 9, 'n_estimators': 150}\n",
            "0.49646986641561197 {'learning_rate': 10, 'max_features': 9, 'n_estimators': 200}\n",
            "0.5074677442095737 {'learning_rate': 10, 'max_features': 10, 'n_estimators': 50}\n",
            "0.3879308519213604 {'learning_rate': 10, 'max_features': 10, 'n_estimators': 100}\n",
            "0.29508951968377 {'learning_rate': 10, 'max_features': 10, 'n_estimators': 150}\n",
            "0.35318384269835856 {'learning_rate': 10, 'max_features': 10, 'n_estimators': 200}\n",
            "0.3307041589733421 {'learning_rate': 10, 'max_features': 11, 'n_estimators': 50}\n",
            "0.3544373373448158 {'learning_rate': 10, 'max_features': 11, 'n_estimators': 100}\n",
            "0.3874486230095892 {'learning_rate': 10, 'max_features': 11, 'n_estimators': 150}\n",
            "0.4167300529203364 {'learning_rate': 10, 'max_features': 11, 'n_estimators': 200}\n",
            "0.2747282082076234 {'learning_rate': 10, 'max_features': 12, 'n_estimators': 50}\n",
            "0.2751392241309094 {'learning_rate': 10, 'max_features': 12, 'n_estimators': 100}\n",
            "0.27680526540776074 {'learning_rate': 10, 'max_features': 12, 'n_estimators': 150}\n",
            "0.27993737301450433 {'learning_rate': 10, 'max_features': 12, 'n_estimators': 200}\n",
            "0.31138527308095676 {'learning_rate': 100, 'max_features': 6, 'n_estimators': 50}\n",
            "0.34820688194681226 {'learning_rate': 100, 'max_features': 6, 'n_estimators': 100}\n",
            "0.3776951820080967 {'learning_rate': 100, 'max_features': 6, 'n_estimators': 150}\n",
            "0.3506798165173689 {'learning_rate': 100, 'max_features': 6, 'n_estimators': 200}\n",
            "0.2969888322979762 {'learning_rate': 100, 'max_features': 7, 'n_estimators': 50}\n",
            "0.324824081028051 {'learning_rate': 100, 'max_features': 7, 'n_estimators': 100}\n",
            "0.34637222415394026 {'learning_rate': 100, 'max_features': 7, 'n_estimators': 150}\n",
            "0.30778007867553675 {'learning_rate': 100, 'max_features': 7, 'n_estimators': 200}\n",
            "0.3675402744487629 {'learning_rate': 100, 'max_features': 8, 'n_estimators': 50}\n",
            "0.30586693352462024 {'learning_rate': 100, 'max_features': 8, 'n_estimators': 100}\n",
            "0.28885322232102384 {'learning_rate': 100, 'max_features': 8, 'n_estimators': 150}\n",
            "0.3213010813813775 {'learning_rate': 100, 'max_features': 8, 'n_estimators': 200}\n",
            "0.3647376761225981 {'learning_rate': 100, 'max_features': 9, 'n_estimators': 50}\n",
            "0.3355395363389867 {'learning_rate': 100, 'max_features': 9, 'n_estimators': 100}\n",
            "0.29856023655463393 {'learning_rate': 100, 'max_features': 9, 'n_estimators': 150}\n",
            "0.29125029560903326 {'learning_rate': 100, 'max_features': 9, 'n_estimators': 200}\n",
            "0.3042147669140327 {'learning_rate': 100, 'max_features': 10, 'n_estimators': 50}\n",
            "0.2900219944355286 {'learning_rate': 100, 'max_features': 10, 'n_estimators': 100}\n",
            "0.3511690248918254 {'learning_rate': 100, 'max_features': 10, 'n_estimators': 150}\n",
            "0.2960509020499117 {'learning_rate': 100, 'max_features': 10, 'n_estimators': 200}\n",
            "0.31452450058223047 {'learning_rate': 100, 'max_features': 11, 'n_estimators': 50}\n",
            "0.32209164245153554 {'learning_rate': 100, 'max_features': 11, 'n_estimators': 100}\n",
            "0.3102536592325793 {'learning_rate': 100, 'max_features': 11, 'n_estimators': 150}\n",
            "0.3396982428605854 {'learning_rate': 100, 'max_features': 11, 'n_estimators': 200}\n",
            "0.3428138356823836 {'learning_rate': 100, 'max_features': 12, 'n_estimators': 50}\n",
            "0.3350202053338262 {'learning_rate': 100, 'max_features': 12, 'n_estimators': 100}\n",
            "0.312540325004227 {'learning_rate': 100, 'max_features': 12, 'n_estimators': 150}\n",
            "0.336777737957548 {'learning_rate': 100, 'max_features': 12, 'n_estimators': 200}\n"
          ],
          "name": "stdout"
        }
      ]
    },
    {
      "cell_type": "markdown",
      "metadata": {
        "id": "7SyBah_LlGqm",
        "colab_type": "text"
      },
      "source": [
        "## Creating an Arbitrary Pipeline"
      ]
    },
    {
      "cell_type": "code",
      "metadata": {
        "id": "7Xz6Wt2ixHyK",
        "colab_type": "code",
        "colab": {}
      },
      "source": [
        "# using a column transformer to alter data in our columns\n",
        "from sklearn.compose import ColumnTransformer\n",
        "from sklearn.preprocessing import StandardScaler, OrdinalEncoder\n",
        "\n",
        "numerical_ix = [0,2,4,10,11,12] # df.select_dtypes(include=['int64']).columns\n",
        "categorical_ix =   [1,3,5,6,7,8,9,13] # df.select_dtypes(include=['object']).columns\n",
        "t = [('cat', OrdinalEncoder(), categorical_ix), ('num', StandardScaler(), numerical_ix)]\n",
        "col_transform = ColumnTransformer(transformers=t)\n",
        "\n",
        "model_gbc = GradientBoostingClassifier(n_estimators=200, max_features=11, learning_rate=0.1)\n",
        "# using a pipeline\n",
        "from sklearn.pipeline import Pipeline\n",
        "pipeline = Pipeline(steps=[('prep',col_transform), ('m', model_gbc)],verbose=True)"
      ],
      "execution_count": 0,
      "outputs": []
    },
    {
      "cell_type": "markdown",
      "metadata": {
        "id": "a5QH-AH7E72L",
        "colab_type": "text"
      },
      "source": [
        "We will now perform Cross Validation on our Gradient Boosting Classifier while utilizing the pipeline."
      ]
    },
    {
      "cell_type": "code",
      "metadata": {
        "id": "o8XkF2sAVBND",
        "colab_type": "code",
        "outputId": "af2e7f32-c2df-4ea4-de45-ef186c48b7ad",
        "colab": {
          "base_uri": "https://localhost:8080/",
          "height": 51
        }
      },
      "source": [
        "from sklearn.model_selection import cross_val_score, KFold\n",
        "cv = KFold(n_splits=10,shuffle=True,random_state=42)\n",
        "scores = cross_val_score(pipeline, X, y,\n",
        "                         scoring='accuracy', cv=cv,\n",
        "                         n_jobs=-1,verbose=2)"
      ],
      "execution_count": 54,
      "outputs": [
        {
          "output_type": "stream",
          "text": [
            "[Parallel(n_jobs=-1)]: Using backend LokyBackend with 2 concurrent workers.\n",
            "[Parallel(n_jobs=-1)]: Done  10 out of  10 | elapsed:   40.9s finished\n"
          ],
          "name": "stderr"
        }
      ]
    },
    {
      "cell_type": "code",
      "metadata": {
        "id": "j5gBeShgPjff",
        "colab_type": "code",
        "outputId": "b889eb68-41c6-41f7-9838-571fa178c6c0",
        "colab": {
          "base_uri": "https://localhost:8080/",
          "height": 51
        }
      },
      "source": [
        "print(scores)"
      ],
      "execution_count": 55,
      "outputs": [
        {
          "output_type": "stream",
          "text": [
            "[0.87448483 0.86511802 0.86249532 0.86998876 0.86212064 0.86886474\n",
            " 0.86399401 0.85612589 0.87181409 0.8691904 ]\n"
          ],
          "name": "stdout"
        }
      ]
    },
    {
      "cell_type": "code",
      "metadata": {
        "id": "JZ0cT3yq_CpJ",
        "colab_type": "code",
        "colab": {
          "base_uri": "https://localhost:8080/",
          "height": 34
        },
        "outputId": "87e03534-b170-472f-d1b6-7ad616835db1"
      },
      "source": [
        "print(np.mean(scores)) "
      ],
      "execution_count": 56,
      "outputs": [
        {
          "output_type": "stream",
          "text": [
            "0.8664196704570157\n"
          ],
          "name": "stdout"
        }
      ]
    },
    {
      "cell_type": "markdown",
      "metadata": {
        "id": "8hq1K6Pxzebp",
        "colab_type": "text"
      },
      "source": [
        "## Resources\n",
        "\n",
        "- Dataset Link: https://www.kaggle.com/wenruliu/adult-income-dataset\n",
        "- Ensemble Methods: https://machinelearningmastery.com/ensemble-machine-learning-algorithms-python-scikit-learn/"
      ]
    }
  ]
}