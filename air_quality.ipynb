{
  "nbformat": 4,
  "nbformat_minor": 0,
  "metadata": {
    "colab": {
      "name": "air_quality.ipynb",
      "provenance": [],
      "collapsed_sections": [],
      "toc_visible": true,
      "authorship_tag": "ABX9TyMnTivnNDmWQLHwP1foqa0j",
      "include_colab_link": true
    },
    "kernelspec": {
      "name": "python3",
      "display_name": "Python 3"
    }
  },
  "cells": [
    {
      "cell_type": "markdown",
      "metadata": {
        "id": "view-in-github",
        "colab_type": "text"
      },
      "source": [
        "<a href=\"https://colab.research.google.com/github/dhruvk98/Machine-Learning-Datasets/blob/master/air_quality.ipynb\" target=\"_parent\"><img src=\"https://colab.research.google.com/assets/colab-badge.svg\" alt=\"Open In Colab\"/></a>"
      ]
    },
    {
      "cell_type": "markdown",
      "metadata": {
        "id": "KR1Ly0YNyhCR",
        "colab_type": "text"
      },
      "source": [
        "# Air Quality Data\n",
        "Contains the responses of a gas multisensor device deployed on the field in an Italian city. Hourly responses averages are recorded along with gas concentrations references from a certified analyzer.\n",
        "\n",
        "Dataset Link: https://archive.ics.uci.edu/ml/datasets/Air+Quality\n",
        "\n",
        "### Attribute Information:\n",
        "\n",
        "1. Date (DD/MM/YYYY)\n",
        "\n",
        "2. Time (HH.MM.SS)\n",
        "\n",
        "3. True hourly averaged concentration CO in mg/m^3 (reference analyzer)\n",
        "\n",
        "4. PT08.S1 (tin oxide) hourly averaged sensor response (nominally CO targeted)\n",
        "\n",
        "5. True hourly averaged overall Non Metanic HydroCarbons concentration in microg/m^3 (reference analyzer)\n",
        "\n",
        "6. True hourly averaged Benzene concentration in microg/m^3 (reference analyzer)\n",
        "\n",
        "7. PT08.S2 (titania) hourly averaged sensor response (nominally NMHC targeted)\n",
        "\n",
        "8. True hourly averaged NOx concentration in ppb (reference analyzer)\n",
        "\n",
        "9. PT08.S3 (tungsten oxide) hourly averaged sensor response (nominally NOx targeted)\n",
        "\n",
        "10. True hourly averaged NO2 concentration in microg/m^3 (reference analyzer)\n",
        "\n",
        "11. PT08.S4 (tungsten oxide) hourly averaged sensor response (nominally NO2 targeted)\n",
        "\n",
        "12. PT08.S5 (indium oxide) hourly averaged sensor response (nominally O3 targeted)\n",
        "\n",
        "13. Temperature in °C\n",
        "\n",
        "14. Relative Humidity (%) - Our Target Variable\n",
        "\n",
        "15. Absolute Humidity (AH)\n",
        "\n",
        "Our aim is to create a model that predicts the _relative humidity_ accurately. \n",
        "\n"
      ]
    },
    {
      "cell_type": "markdown",
      "metadata": {
        "id": "Qu_QOzCBypsl",
        "colab_type": "text"
      },
      "source": [
        "## Importing our libraries"
      ]
    },
    {
      "cell_type": "code",
      "metadata": {
        "id": "wwDSOEULyZJ4",
        "colab_type": "code",
        "colab": {}
      },
      "source": [
        "import pandas as pd\n",
        "import numpy as np\n",
        "import matplotlib.pyplot as plt\n",
        "%matplotlib inline\n",
        "import seaborn as sns\n",
        "import datetime as dt"
      ],
      "execution_count": 0,
      "outputs": []
    },
    {
      "cell_type": "code",
      "metadata": {
        "id": "gSRf5s0BzLJe",
        "colab_type": "code",
        "colab": {}
      },
      "source": [
        "dateparse = lambda x: dt.datetime.strptime(x, '%m/%d/%Y')\n",
        "df = pd.read_csv('AirQualityUCI.csv',sep=',',\n",
        "                 na_filter=True, parse_dates = ['Date'], date_parser=dateparse,                \n",
        "                 na_values=-200, encoding='utf-8')"
      ],
      "execution_count": 0,
      "outputs": []
    },
    {
      "cell_type": "markdown",
      "metadata": {
        "id": "Rw7OrfW82pzc",
        "colab_type": "text"
      },
      "source": [
        "Let's check out our dataframe and see how it looks. Note that all feature values that were initially _-200_ have been set to _NaN_ values now. "
      ]
    },
    {
      "cell_type": "code",
      "metadata": {
        "id": "WVZLZVuVzV1K",
        "colab_type": "code",
        "outputId": "b99c36db-aea6-4ce8-afde-a3884340f55c",
        "colab": {
          "base_uri": "https://localhost:8080/",
          "height": 309
        }
      },
      "source": [
        "df.head()"
      ],
      "execution_count": 91,
      "outputs": [
        {
          "output_type": "execute_result",
          "data": {
            "text/html": [
              "<div>\n",
              "<style scoped>\n",
              "    .dataframe tbody tr th:only-of-type {\n",
              "        vertical-align: middle;\n",
              "    }\n",
              "\n",
              "    .dataframe tbody tr th {\n",
              "        vertical-align: top;\n",
              "    }\n",
              "\n",
              "    .dataframe thead th {\n",
              "        text-align: right;\n",
              "    }\n",
              "</style>\n",
              "<table border=\"1\" class=\"dataframe\">\n",
              "  <thead>\n",
              "    <tr style=\"text-align: right;\">\n",
              "      <th></th>\n",
              "      <th>Date</th>\n",
              "      <th>Time</th>\n",
              "      <th>CO(GT)</th>\n",
              "      <th>PT08.S1(CO)</th>\n",
              "      <th>NMHC(GT)</th>\n",
              "      <th>C6H6(GT)</th>\n",
              "      <th>PT08.S2(NMHC)</th>\n",
              "      <th>NOx(GT)</th>\n",
              "      <th>PT08.S3(NOx)</th>\n",
              "      <th>NO2(GT)</th>\n",
              "      <th>PT08.S4(NO2)</th>\n",
              "      <th>PT08.S5(O3)</th>\n",
              "      <th>T</th>\n",
              "      <th>RH</th>\n",
              "      <th>AH</th>\n",
              "    </tr>\n",
              "  </thead>\n",
              "  <tbody>\n",
              "    <tr>\n",
              "      <th>0</th>\n",
              "      <td>2004-03-10</td>\n",
              "      <td>18:00:00</td>\n",
              "      <td>2.6</td>\n",
              "      <td>1360.0</td>\n",
              "      <td>150.0</td>\n",
              "      <td>11.9</td>\n",
              "      <td>1046.0</td>\n",
              "      <td>166.0</td>\n",
              "      <td>1056.0</td>\n",
              "      <td>113.0</td>\n",
              "      <td>1692.0</td>\n",
              "      <td>1268.0</td>\n",
              "      <td>13.6</td>\n",
              "      <td>48.9</td>\n",
              "      <td>0.7578</td>\n",
              "    </tr>\n",
              "    <tr>\n",
              "      <th>1</th>\n",
              "      <td>2004-03-10</td>\n",
              "      <td>19:00:00</td>\n",
              "      <td>2.0</td>\n",
              "      <td>1292.0</td>\n",
              "      <td>112.0</td>\n",
              "      <td>9.4</td>\n",
              "      <td>955.0</td>\n",
              "      <td>103.0</td>\n",
              "      <td>1174.0</td>\n",
              "      <td>92.0</td>\n",
              "      <td>1559.0</td>\n",
              "      <td>972.0</td>\n",
              "      <td>13.3</td>\n",
              "      <td>47.7</td>\n",
              "      <td>0.7255</td>\n",
              "    </tr>\n",
              "    <tr>\n",
              "      <th>2</th>\n",
              "      <td>2004-03-10</td>\n",
              "      <td>20:00:00</td>\n",
              "      <td>2.2</td>\n",
              "      <td>1402.0</td>\n",
              "      <td>88.0</td>\n",
              "      <td>9.0</td>\n",
              "      <td>939.0</td>\n",
              "      <td>131.0</td>\n",
              "      <td>1140.0</td>\n",
              "      <td>114.0</td>\n",
              "      <td>1555.0</td>\n",
              "      <td>1074.0</td>\n",
              "      <td>11.9</td>\n",
              "      <td>54.0</td>\n",
              "      <td>0.7502</td>\n",
              "    </tr>\n",
              "    <tr>\n",
              "      <th>3</th>\n",
              "      <td>2004-03-10</td>\n",
              "      <td>21:00:00</td>\n",
              "      <td>2.2</td>\n",
              "      <td>1376.0</td>\n",
              "      <td>80.0</td>\n",
              "      <td>9.2</td>\n",
              "      <td>948.0</td>\n",
              "      <td>172.0</td>\n",
              "      <td>1092.0</td>\n",
              "      <td>122.0</td>\n",
              "      <td>1584.0</td>\n",
              "      <td>1203.0</td>\n",
              "      <td>11.0</td>\n",
              "      <td>60.0</td>\n",
              "      <td>0.7867</td>\n",
              "    </tr>\n",
              "    <tr>\n",
              "      <th>4</th>\n",
              "      <td>2004-03-10</td>\n",
              "      <td>22:00:00</td>\n",
              "      <td>1.6</td>\n",
              "      <td>1272.0</td>\n",
              "      <td>51.0</td>\n",
              "      <td>6.5</td>\n",
              "      <td>836.0</td>\n",
              "      <td>131.0</td>\n",
              "      <td>1205.0</td>\n",
              "      <td>116.0</td>\n",
              "      <td>1490.0</td>\n",
              "      <td>1110.0</td>\n",
              "      <td>11.2</td>\n",
              "      <td>59.6</td>\n",
              "      <td>0.7888</td>\n",
              "    </tr>\n",
              "  </tbody>\n",
              "</table>\n",
              "</div>"
            ],
            "text/plain": [
              "        Date      Time  CO(GT)  PT08.S1(CO)  ...  PT08.S5(O3)     T    RH      AH\n",
              "0 2004-03-10  18:00:00     2.6       1360.0  ...       1268.0  13.6  48.9  0.7578\n",
              "1 2004-03-10  19:00:00     2.0       1292.0  ...        972.0  13.3  47.7  0.7255\n",
              "2 2004-03-10  20:00:00     2.2       1402.0  ...       1074.0  11.9  54.0  0.7502\n",
              "3 2004-03-10  21:00:00     2.2       1376.0  ...       1203.0  11.0  60.0  0.7867\n",
              "4 2004-03-10  22:00:00     1.6       1272.0  ...       1110.0  11.2  59.6  0.7888\n",
              "\n",
              "[5 rows x 15 columns]"
            ]
          },
          "metadata": {
            "tags": []
          },
          "execution_count": 91
        }
      ]
    },
    {
      "cell_type": "code",
      "metadata": {
        "id": "VzfCV8qG4bjM",
        "colab_type": "code",
        "outputId": "29d1dde4-fdfa-44d6-c790-742864ed830e",
        "colab": {
          "base_uri": "https://localhost:8080/",
          "height": 309
        }
      },
      "source": [
        "df.tail()"
      ],
      "execution_count": 92,
      "outputs": [
        {
          "output_type": "execute_result",
          "data": {
            "text/html": [
              "<div>\n",
              "<style scoped>\n",
              "    .dataframe tbody tr th:only-of-type {\n",
              "        vertical-align: middle;\n",
              "    }\n",
              "\n",
              "    .dataframe tbody tr th {\n",
              "        vertical-align: top;\n",
              "    }\n",
              "\n",
              "    .dataframe thead th {\n",
              "        text-align: right;\n",
              "    }\n",
              "</style>\n",
              "<table border=\"1\" class=\"dataframe\">\n",
              "  <thead>\n",
              "    <tr style=\"text-align: right;\">\n",
              "      <th></th>\n",
              "      <th>Date</th>\n",
              "      <th>Time</th>\n",
              "      <th>CO(GT)</th>\n",
              "      <th>PT08.S1(CO)</th>\n",
              "      <th>NMHC(GT)</th>\n",
              "      <th>C6H6(GT)</th>\n",
              "      <th>PT08.S2(NMHC)</th>\n",
              "      <th>NOx(GT)</th>\n",
              "      <th>PT08.S3(NOx)</th>\n",
              "      <th>NO2(GT)</th>\n",
              "      <th>PT08.S4(NO2)</th>\n",
              "      <th>PT08.S5(O3)</th>\n",
              "      <th>T</th>\n",
              "      <th>RH</th>\n",
              "      <th>AH</th>\n",
              "    </tr>\n",
              "  </thead>\n",
              "  <tbody>\n",
              "    <tr>\n",
              "      <th>9352</th>\n",
              "      <td>2005-04-04</td>\n",
              "      <td>10:00:00</td>\n",
              "      <td>3.1</td>\n",
              "      <td>1314.0</td>\n",
              "      <td>NaN</td>\n",
              "      <td>13.5</td>\n",
              "      <td>1101.0</td>\n",
              "      <td>472.0</td>\n",
              "      <td>539.0</td>\n",
              "      <td>190.0</td>\n",
              "      <td>1374.0</td>\n",
              "      <td>1729.0</td>\n",
              "      <td>21.9</td>\n",
              "      <td>29.3</td>\n",
              "      <td>0.7568</td>\n",
              "    </tr>\n",
              "    <tr>\n",
              "      <th>9353</th>\n",
              "      <td>2005-04-04</td>\n",
              "      <td>11:00:00</td>\n",
              "      <td>2.4</td>\n",
              "      <td>1163.0</td>\n",
              "      <td>NaN</td>\n",
              "      <td>11.4</td>\n",
              "      <td>1027.0</td>\n",
              "      <td>353.0</td>\n",
              "      <td>604.0</td>\n",
              "      <td>179.0</td>\n",
              "      <td>1264.0</td>\n",
              "      <td>1269.0</td>\n",
              "      <td>24.3</td>\n",
              "      <td>23.7</td>\n",
              "      <td>0.7119</td>\n",
              "    </tr>\n",
              "    <tr>\n",
              "      <th>9354</th>\n",
              "      <td>2005-04-04</td>\n",
              "      <td>12:00:00</td>\n",
              "      <td>2.4</td>\n",
              "      <td>1142.0</td>\n",
              "      <td>NaN</td>\n",
              "      <td>12.4</td>\n",
              "      <td>1063.0</td>\n",
              "      <td>293.0</td>\n",
              "      <td>603.0</td>\n",
              "      <td>175.0</td>\n",
              "      <td>1241.0</td>\n",
              "      <td>1092.0</td>\n",
              "      <td>26.9</td>\n",
              "      <td>18.3</td>\n",
              "      <td>0.6406</td>\n",
              "    </tr>\n",
              "    <tr>\n",
              "      <th>9355</th>\n",
              "      <td>2005-04-04</td>\n",
              "      <td>13:00:00</td>\n",
              "      <td>2.1</td>\n",
              "      <td>1003.0</td>\n",
              "      <td>NaN</td>\n",
              "      <td>9.5</td>\n",
              "      <td>961.0</td>\n",
              "      <td>235.0</td>\n",
              "      <td>702.0</td>\n",
              "      <td>156.0</td>\n",
              "      <td>1041.0</td>\n",
              "      <td>770.0</td>\n",
              "      <td>28.3</td>\n",
              "      <td>13.5</td>\n",
              "      <td>0.5139</td>\n",
              "    </tr>\n",
              "    <tr>\n",
              "      <th>9356</th>\n",
              "      <td>2005-04-04</td>\n",
              "      <td>14:00:00</td>\n",
              "      <td>2.2</td>\n",
              "      <td>1071.0</td>\n",
              "      <td>NaN</td>\n",
              "      <td>11.9</td>\n",
              "      <td>1047.0</td>\n",
              "      <td>265.0</td>\n",
              "      <td>654.0</td>\n",
              "      <td>168.0</td>\n",
              "      <td>1129.0</td>\n",
              "      <td>816.0</td>\n",
              "      <td>28.5</td>\n",
              "      <td>13.1</td>\n",
              "      <td>0.5028</td>\n",
              "    </tr>\n",
              "  </tbody>\n",
              "</table>\n",
              "</div>"
            ],
            "text/plain": [
              "           Date      Time  CO(GT)  PT08.S1(CO)  ...  PT08.S5(O3)     T    RH      AH\n",
              "9352 2005-04-04  10:00:00     3.1       1314.0  ...       1729.0  21.9  29.3  0.7568\n",
              "9353 2005-04-04  11:00:00     2.4       1163.0  ...       1269.0  24.3  23.7  0.7119\n",
              "9354 2005-04-04  12:00:00     2.4       1142.0  ...       1092.0  26.9  18.3  0.6406\n",
              "9355 2005-04-04  13:00:00     2.1       1003.0  ...        770.0  28.3  13.5  0.5139\n",
              "9356 2005-04-04  14:00:00     2.2       1071.0  ...        816.0  28.5  13.1  0.5028\n",
              "\n",
              "[5 rows x 15 columns]"
            ]
          },
          "metadata": {
            "tags": []
          },
          "execution_count": 92
        }
      ]
    },
    {
      "cell_type": "code",
      "metadata": {
        "id": "A0Pr8-rH8ZF1",
        "colab_type": "code",
        "outputId": "d6971921-4387-4b35-f3dd-f73dcbd87653",
        "colab": {
          "base_uri": "https://localhost:8080/",
          "height": 34
        }
      },
      "source": [
        "df.shape"
      ],
      "execution_count": 93,
      "outputs": [
        {
          "output_type": "execute_result",
          "data": {
            "text/plain": [
              "(9357, 15)"
            ]
          },
          "metadata": {
            "tags": []
          },
          "execution_count": 93
        }
      ]
    },
    {
      "cell_type": "code",
      "metadata": {
        "id": "U7ivXHXH2X9x",
        "colab_type": "code",
        "outputId": "9c6adefd-bd87-4599-89a6-24af10fc297e",
        "colab": {
          "base_uri": "https://localhost:8080/",
          "height": 391
        }
      },
      "source": [
        "df.info()"
      ],
      "execution_count": 94,
      "outputs": [
        {
          "output_type": "stream",
          "text": [
            "<class 'pandas.core.frame.DataFrame'>\n",
            "RangeIndex: 9357 entries, 0 to 9356\n",
            "Data columns (total 15 columns):\n",
            " #   Column         Non-Null Count  Dtype         \n",
            "---  ------         --------------  -----         \n",
            " 0   Date           9357 non-null   datetime64[ns]\n",
            " 1   Time           9357 non-null   object        \n",
            " 2   CO(GT)         7674 non-null   float64       \n",
            " 3   PT08.S1(CO)    8991 non-null   float64       \n",
            " 4   NMHC(GT)       914 non-null    float64       \n",
            " 5   C6H6(GT)       8991 non-null   float64       \n",
            " 6   PT08.S2(NMHC)  8991 non-null   float64       \n",
            " 7   NOx(GT)        7718 non-null   float64       \n",
            " 8   PT08.S3(NOx)   8991 non-null   float64       \n",
            " 9   NO2(GT)        7715 non-null   float64       \n",
            " 10  PT08.S4(NO2)   8991 non-null   float64       \n",
            " 11  PT08.S5(O3)    8991 non-null   float64       \n",
            " 12  T              8991 non-null   float64       \n",
            " 13  RH             8991 non-null   float64       \n",
            " 14  AH             8991 non-null   float64       \n",
            "dtypes: datetime64[ns](1), float64(13), object(1)\n",
            "memory usage: 1.1+ MB\n"
          ],
          "name": "stdout"
        }
      ]
    },
    {
      "cell_type": "markdown",
      "metadata": {
        "id": "3QgcexJF3LTa",
        "colab_type": "text"
      },
      "source": [
        "## Data Preprocessing"
      ]
    },
    {
      "cell_type": "markdown",
      "metadata": {
        "id": "-wEhLnzr3_3c",
        "colab_type": "text"
      },
      "source": [
        "Let's see how many null values we have in our columns."
      ]
    },
    {
      "cell_type": "code",
      "metadata": {
        "id": "ifFOLFSj39-n",
        "colab_type": "code",
        "outputId": "5375804b-beb3-4fc7-fcd7-bee2214581af",
        "colab": {
          "base_uri": "https://localhost:8080/",
          "height": 289
        }
      },
      "source": [
        "df.isnull().sum()"
      ],
      "execution_count": 95,
      "outputs": [
        {
          "output_type": "execute_result",
          "data": {
            "text/plain": [
              "Date                0\n",
              "Time                0\n",
              "CO(GT)           1683\n",
              "PT08.S1(CO)       366\n",
              "NMHC(GT)         8443\n",
              "C6H6(GT)          366\n",
              "PT08.S2(NMHC)     366\n",
              "NOx(GT)          1639\n",
              "PT08.S3(NOx)      366\n",
              "NO2(GT)          1642\n",
              "PT08.S4(NO2)      366\n",
              "PT08.S5(O3)       366\n",
              "T                 366\n",
              "RH                366\n",
              "AH                366\n",
              "dtype: int64"
            ]
          },
          "metadata": {
            "tags": []
          },
          "execution_count": 95
        }
      ]
    },
    {
      "cell_type": "markdown",
      "metadata": {
        "id": "SkNyljtF6YbE",
        "colab_type": "text"
      },
      "source": [
        "We observe that a lot of our columns have missing data. Most notably, the NMHC column has a lot of missing instances so we should drop it. "
      ]
    },
    {
      "cell_type": "code",
      "metadata": {
        "id": "dukfMb3d6nME",
        "colab_type": "code",
        "colab": {}
      },
      "source": [
        "df.drop('NMHC(GT)',axis='columns',inplace=True)"
      ],
      "execution_count": 0,
      "outputs": []
    },
    {
      "cell_type": "code",
      "metadata": {
        "id": "HlIEZIvG7QaU",
        "colab_type": "code",
        "outputId": "21ea557b-9260-4496-ac80-3eff41ad135f",
        "colab": {
          "base_uri": "https://localhost:8080/",
          "height": 272
        }
      },
      "source": [
        "df.isnull().sum()"
      ],
      "execution_count": 97,
      "outputs": [
        {
          "output_type": "execute_result",
          "data": {
            "text/plain": [
              "Date                0\n",
              "Time                0\n",
              "CO(GT)           1683\n",
              "PT08.S1(CO)       366\n",
              "C6H6(GT)          366\n",
              "PT08.S2(NMHC)     366\n",
              "NOx(GT)          1639\n",
              "PT08.S3(NOx)      366\n",
              "NO2(GT)          1642\n",
              "PT08.S4(NO2)      366\n",
              "PT08.S5(O3)       366\n",
              "T                 366\n",
              "RH                366\n",
              "AH                366\n",
              "dtype: int64"
            ]
          },
          "metadata": {
            "tags": []
          },
          "execution_count": 97
        }
      ]
    },
    {
      "cell_type": "markdown",
      "metadata": {
        "id": "evYvLk0l7ZQB",
        "colab_type": "text"
      },
      "source": [
        "Now, we're going to drop any rows which have at least 10 instance values that are not NaN values."
      ]
    },
    {
      "cell_type": "code",
      "metadata": {
        "id": "1m6jzuK87rMn",
        "colab_type": "code",
        "colab": {}
      },
      "source": [
        "df.dropna(axis=0,thresh=10,inplace=True)"
      ],
      "execution_count": 0,
      "outputs": []
    },
    {
      "cell_type": "code",
      "metadata": {
        "id": "RpS_wHnq8ilH",
        "colab_type": "code",
        "outputId": "70688118-9106-47cf-c7c6-fd8311529b74",
        "colab": {
          "base_uri": "https://localhost:8080/",
          "height": 34
        }
      },
      "source": [
        "df.shape"
      ],
      "execution_count": 99,
      "outputs": [
        {
          "output_type": "execute_result",
          "data": {
            "text/plain": [
              "(8991, 14)"
            ]
          },
          "metadata": {
            "tags": []
          },
          "execution_count": 99
        }
      ]
    },
    {
      "cell_type": "markdown",
      "metadata": {
        "id": "tNjjeMgI-vre",
        "colab_type": "text"
      },
      "source": [
        "Next we're going to fill in any remaining missing vales."
      ]
    },
    {
      "cell_type": "code",
      "metadata": {
        "id": "jbk8gzh2_IUz",
        "colab_type": "code",
        "outputId": "35b66d10-5827-4fb2-c6d1-f7c16922dcb2",
        "colab": {
          "base_uri": "https://localhost:8080/",
          "height": 272
        }
      },
      "source": [
        "df.isnull().sum()"
      ],
      "execution_count": 100,
      "outputs": [
        {
          "output_type": "execute_result",
          "data": {
            "text/plain": [
              "Date                0\n",
              "Time                0\n",
              "CO(GT)           1647\n",
              "PT08.S1(CO)         0\n",
              "C6H6(GT)            0\n",
              "PT08.S2(NMHC)       0\n",
              "NOx(GT)          1595\n",
              "PT08.S3(NOx)        0\n",
              "NO2(GT)          1598\n",
              "PT08.S4(NO2)        0\n",
              "PT08.S5(O3)         0\n",
              "T                   0\n",
              "RH                  0\n",
              "AH                  0\n",
              "dtype: int64"
            ]
          },
          "metadata": {
            "tags": []
          },
          "execution_count": 100
        }
      ]
    },
    {
      "cell_type": "markdown",
      "metadata": {
        "id": "DXp7LnRJ_MDH",
        "colab_type": "text"
      },
      "source": [
        "We observe that 3 columns CO(GT), NOx(GT) and NO2(GT) still contain missing values. So we'll impute the mean values for each hour and fill our dataframe accordingly. For that we need to compute an hour column using our time column."
      ]
    },
    {
      "cell_type": "code",
      "metadata": {
        "id": "oRH6r8AVA6pc",
        "colab_type": "code",
        "colab": {}
      },
      "source": [
        "df['Hour'] = df['Time'].apply(lambda x: int(x.split(':')[0]))\n",
        "df.drop('Time',axis='columns',inplace=True)"
      ],
      "execution_count": 0,
      "outputs": []
    },
    {
      "cell_type": "markdown",
      "metadata": {
        "id": "3LDoOby2-IAz",
        "colab_type": "text"
      },
      "source": [
        "Similarly, we create a month column for our data. "
      ]
    },
    {
      "cell_type": "code",
      "metadata": {
        "id": "EojDH9LQ9-aa",
        "colab_type": "code",
        "colab": {}
      },
      "source": [
        "df['Month'] = df['Date'].dt.month\n",
        "df.drop('Date',axis='columns',inplace=True)"
      ],
      "execution_count": 0,
      "outputs": []
    },
    {
      "cell_type": "markdown",
      "metadata": {
        "id": "o6wZmqej0YSL",
        "colab_type": "text"
      },
      "source": [
        "Now, to impute the the mean values for our missing values we utilize the groupby function which groups our data on the basis of the _Hour_ feature. "
      ]
    },
    {
      "cell_type": "code",
      "metadata": {
        "id": "JMZU_5L91Lt6",
        "colab_type": "code",
        "outputId": "57b2c68e-e39f-49d9-a006-bdfcb9b10e74",
        "colab": {
          "base_uri": "https://localhost:8080/",
          "height": 272
        }
      },
      "source": [
        "df['CO(GT)'].fillna(df.groupby('Hour')['CO(GT)'].transform('mean'),inplace=True)\n",
        "df['NOx(GT)'].fillna(df.groupby('Hour')['NOx(GT)'].transform('mean'),inplace=True)\n",
        "df['NO2(GT)'].fillna(df.groupby('Hour')['NO2(GT)'].transform('mean'),inplace=True)\n",
        "df.isnull().sum()"
      ],
      "execution_count": 103,
      "outputs": [
        {
          "output_type": "execute_result",
          "data": {
            "text/plain": [
              "CO(GT)           0\n",
              "PT08.S1(CO)      0\n",
              "C6H6(GT)         0\n",
              "PT08.S2(NMHC)    0\n",
              "NOx(GT)          0\n",
              "PT08.S3(NOx)     0\n",
              "NO2(GT)          0\n",
              "PT08.S4(NO2)     0\n",
              "PT08.S5(O3)      0\n",
              "T                0\n",
              "RH               0\n",
              "AH               0\n",
              "Hour             0\n",
              "Month            0\n",
              "dtype: int64"
            ]
          },
          "metadata": {
            "tags": []
          },
          "execution_count": 103
        }
      ]
    },
    {
      "cell_type": "markdown",
      "metadata": {
        "id": "Pdj35fK-Ff_Z",
        "colab_type": "text"
      },
      "source": [
        "## Exploratory Data Analysis"
      ]
    },
    {
      "cell_type": "code",
      "metadata": {
        "id": "3uDUwQim6Lxx",
        "colab_type": "code",
        "outputId": "264346e2-98ad-46e6-e865-7a942bbedfc8",
        "colab": {
          "base_uri": "https://localhost:8080/",
          "height": 483
        }
      },
      "source": [
        "df.describe().T # for better readability"
      ],
      "execution_count": 104,
      "outputs": [
        {
          "output_type": "execute_result",
          "data": {
            "text/html": [
              "<div>\n",
              "<style scoped>\n",
              "    .dataframe tbody tr th:only-of-type {\n",
              "        vertical-align: middle;\n",
              "    }\n",
              "\n",
              "    .dataframe tbody tr th {\n",
              "        vertical-align: top;\n",
              "    }\n",
              "\n",
              "    .dataframe thead th {\n",
              "        text-align: right;\n",
              "    }\n",
              "</style>\n",
              "<table border=\"1\" class=\"dataframe\">\n",
              "  <thead>\n",
              "    <tr style=\"text-align: right;\">\n",
              "      <th></th>\n",
              "      <th>count</th>\n",
              "      <th>mean</th>\n",
              "      <th>std</th>\n",
              "      <th>min</th>\n",
              "      <th>25%</th>\n",
              "      <th>50%</th>\n",
              "      <th>75%</th>\n",
              "      <th>max</th>\n",
              "    </tr>\n",
              "  </thead>\n",
              "  <tbody>\n",
              "    <tr>\n",
              "      <th>CO(GT)</th>\n",
              "      <td>8991.0</td>\n",
              "      <td>2.094249</td>\n",
              "      <td>1.353915</td>\n",
              "      <td>0.1000</td>\n",
              "      <td>1.079479</td>\n",
              "      <td>1.857188</td>\n",
              "      <td>2.8000</td>\n",
              "      <td>11.900</td>\n",
              "    </tr>\n",
              "    <tr>\n",
              "      <th>PT08.S1(CO)</th>\n",
              "      <td>8991.0</td>\n",
              "      <td>1099.833166</td>\n",
              "      <td>217.080037</td>\n",
              "      <td>647.0000</td>\n",
              "      <td>937.000000</td>\n",
              "      <td>1063.000000</td>\n",
              "      <td>1231.0000</td>\n",
              "      <td>2040.000</td>\n",
              "    </tr>\n",
              "    <tr>\n",
              "      <th>C6H6(GT)</th>\n",
              "      <td>8991.0</td>\n",
              "      <td>10.083105</td>\n",
              "      <td>7.449820</td>\n",
              "      <td>0.1000</td>\n",
              "      <td>4.400000</td>\n",
              "      <td>8.200000</td>\n",
              "      <td>14.0000</td>\n",
              "      <td>63.700</td>\n",
              "    </tr>\n",
              "    <tr>\n",
              "      <th>PT08.S2(NMHC)</th>\n",
              "      <td>8991.0</td>\n",
              "      <td>939.153376</td>\n",
              "      <td>266.831429</td>\n",
              "      <td>383.0000</td>\n",
              "      <td>734.500000</td>\n",
              "      <td>909.000000</td>\n",
              "      <td>1116.0000</td>\n",
              "      <td>2214.000</td>\n",
              "    </tr>\n",
              "    <tr>\n",
              "      <th>NOx(GT)</th>\n",
              "      <td>8991.0</td>\n",
              "      <td>237.219195</td>\n",
              "      <td>191.446569</td>\n",
              "      <td>2.0000</td>\n",
              "      <td>108.000000</td>\n",
              "      <td>186.000000</td>\n",
              "      <td>313.0000</td>\n",
              "      <td>1479.000</td>\n",
              "    </tr>\n",
              "    <tr>\n",
              "      <th>PT08.S3(NOx)</th>\n",
              "      <td>8991.0</td>\n",
              "      <td>835.493605</td>\n",
              "      <td>256.817320</td>\n",
              "      <td>322.0000</td>\n",
              "      <td>658.000000</td>\n",
              "      <td>806.000000</td>\n",
              "      <td>969.5000</td>\n",
              "      <td>2683.000</td>\n",
              "    </tr>\n",
              "    <tr>\n",
              "      <th>NO2(GT)</th>\n",
              "      <td>8991.0</td>\n",
              "      <td>110.880315</td>\n",
              "      <td>44.689444</td>\n",
              "      <td>2.0000</td>\n",
              "      <td>80.115385</td>\n",
              "      <td>109.000000</td>\n",
              "      <td>135.0000</td>\n",
              "      <td>333.000</td>\n",
              "    </tr>\n",
              "    <tr>\n",
              "      <th>PT08.S4(NO2)</th>\n",
              "      <td>8991.0</td>\n",
              "      <td>1456.264598</td>\n",
              "      <td>346.206794</td>\n",
              "      <td>551.0000</td>\n",
              "      <td>1227.000000</td>\n",
              "      <td>1463.000000</td>\n",
              "      <td>1674.0000</td>\n",
              "      <td>2775.000</td>\n",
              "    </tr>\n",
              "    <tr>\n",
              "      <th>PT08.S5(O3)</th>\n",
              "      <td>8991.0</td>\n",
              "      <td>1022.906128</td>\n",
              "      <td>398.484288</td>\n",
              "      <td>221.0000</td>\n",
              "      <td>731.500000</td>\n",
              "      <td>963.000000</td>\n",
              "      <td>1273.5000</td>\n",
              "      <td>2523.000</td>\n",
              "    </tr>\n",
              "    <tr>\n",
              "      <th>T</th>\n",
              "      <td>8991.0</td>\n",
              "      <td>18.317829</td>\n",
              "      <td>8.832116</td>\n",
              "      <td>-1.9000</td>\n",
              "      <td>11.800000</td>\n",
              "      <td>17.800000</td>\n",
              "      <td>24.4000</td>\n",
              "      <td>44.600</td>\n",
              "    </tr>\n",
              "    <tr>\n",
              "      <th>RH</th>\n",
              "      <td>8991.0</td>\n",
              "      <td>49.234201</td>\n",
              "      <td>17.316892</td>\n",
              "      <td>9.2000</td>\n",
              "      <td>35.800000</td>\n",
              "      <td>49.600000</td>\n",
              "      <td>62.5000</td>\n",
              "      <td>88.700</td>\n",
              "    </tr>\n",
              "    <tr>\n",
              "      <th>AH</th>\n",
              "      <td>8991.0</td>\n",
              "      <td>1.025530</td>\n",
              "      <td>0.403813</td>\n",
              "      <td>0.1847</td>\n",
              "      <td>0.736800</td>\n",
              "      <td>0.995400</td>\n",
              "      <td>1.3137</td>\n",
              "      <td>2.231</td>\n",
              "    </tr>\n",
              "    <tr>\n",
              "      <th>Hour</th>\n",
              "      <td>8991.0</td>\n",
              "      <td>11.479591</td>\n",
              "      <td>6.913320</td>\n",
              "      <td>0.0000</td>\n",
              "      <td>5.000000</td>\n",
              "      <td>11.000000</td>\n",
              "      <td>17.0000</td>\n",
              "      <td>23.000</td>\n",
              "    </tr>\n",
              "    <tr>\n",
              "      <th>Month</th>\n",
              "      <td>8991.0</td>\n",
              "      <td>6.327772</td>\n",
              "      <td>3.407854</td>\n",
              "      <td>1.0000</td>\n",
              "      <td>3.000000</td>\n",
              "      <td>6.000000</td>\n",
              "      <td>9.0000</td>\n",
              "      <td>12.000</td>\n",
              "    </tr>\n",
              "  </tbody>\n",
              "</table>\n",
              "</div>"
            ],
            "text/plain": [
              "                count         mean  ...        75%       max\n",
              "CO(GT)         8991.0     2.094249  ...     2.8000    11.900\n",
              "PT08.S1(CO)    8991.0  1099.833166  ...  1231.0000  2040.000\n",
              "C6H6(GT)       8991.0    10.083105  ...    14.0000    63.700\n",
              "PT08.S2(NMHC)  8991.0   939.153376  ...  1116.0000  2214.000\n",
              "NOx(GT)        8991.0   237.219195  ...   313.0000  1479.000\n",
              "PT08.S3(NOx)   8991.0   835.493605  ...   969.5000  2683.000\n",
              "NO2(GT)        8991.0   110.880315  ...   135.0000   333.000\n",
              "PT08.S4(NO2)   8991.0  1456.264598  ...  1674.0000  2775.000\n",
              "PT08.S5(O3)    8991.0  1022.906128  ...  1273.5000  2523.000\n",
              "T              8991.0    18.317829  ...    24.4000    44.600\n",
              "RH             8991.0    49.234201  ...    62.5000    88.700\n",
              "AH             8991.0     1.025530  ...     1.3137     2.231\n",
              "Hour           8991.0    11.479591  ...    17.0000    23.000\n",
              "Month          8991.0     6.327772  ...     9.0000    12.000\n",
              "\n",
              "[14 rows x 8 columns]"
            ]
          },
          "metadata": {
            "tags": []
          },
          "execution_count": 104
        }
      ]
    },
    {
      "cell_type": "markdown",
      "metadata": {
        "id": "-EvNYa4KCarK",
        "colab_type": "text"
      },
      "source": [
        "Let's visualize the distribution of all of our features."
      ]
    },
    {
      "cell_type": "code",
      "metadata": {
        "id": "PrXMPuvgCfJR",
        "colab_type": "code",
        "colab": {
          "base_uri": "https://localhost:8080/",
          "height": 937
        },
        "outputId": "303f5c5b-e31d-4475-c18d-61ff5581b62a"
      },
      "source": [
        "df.hist(bins=10,figsize=(20,20))\n",
        "plt.show()"
      ],
      "execution_count": 105,
      "outputs": [
        {
          "output_type": "display_data",
          "data": {
            "image/png": "[encoded data removed]",
            "text/plain": [
              "<Figure size 1440x1440 with 16 Axes>"
            ]
          },
          "metadata": {
            "tags": [],
            "needs_background": "light"
          }
        }
      ]
    },
    {
      "cell_type": "markdown",
      "metadata": {
        "id": "0w_8WG45_iUD",
        "colab_type": "text"
      },
      "source": [
        "Now let's plot Pearson's correlation matrix to visualize the correlation between our features. "
      ]
    },
    {
      "cell_type": "code",
      "metadata": {
        "id": "mJtegVY_6O4_",
        "colab_type": "code",
        "outputId": "09e5fe02-3d91-447d-8ae8-f773eaca1961",
        "colab": {
          "base_uri": "https://localhost:8080/",
          "height": 715
        }
      },
      "source": [
        "corr = df.corr()\n",
        "plt.figure(figsize=(12,12))\n",
        "plt.title('Pearson\\'s Correlation Matrix')\n",
        "sns.heatmap(corr,square=True,\n",
        "            cmap='coolwarm',annot=True)\n",
        "plt.show()"
      ],
      "execution_count": 106,
      "outputs": [
        {
          "output_type": "display_data",
          "data": {
            "image/png": "[encoded data removed]",
            "text/plain": [
              "<Figure size 864x864 with 2 Axes>"
            ]
          },
          "metadata": {
            "tags": [],
            "needs_background": "light"
          }
        }
      ]
    },
    {
      "cell_type": "markdown",
      "metadata": {
        "id": "iFWnt0ksAAvM",
        "colab_type": "text"
      },
      "source": [
        "Now let's split our data and create the training and test sets."
      ]
    },
    {
      "cell_type": "code",
      "metadata": {
        "id": "HSv2iJCb_6yx",
        "colab_type": "code",
        "outputId": "22d6b820-380f-4a2f-ead2-8bbb85994c69",
        "colab": {
          "base_uri": "https://localhost:8080/",
          "height": 153
        }
      },
      "source": [
        "np.random.seed(42) # used to make output of notebook identical each time\n",
        "X = df.drop('RH', axis=1)\n",
        "y = df['RH']\n",
        "print(X.head())"
      ],
      "execution_count": 107,
      "outputs": [
        {
          "output_type": "stream",
          "text": [
            "   CO(GT)  PT08.S1(CO)  C6H6(GT)  PT08.S2(NMHC)  ...     T      AH  Hour  Month\n",
            "0     2.6       1360.0      11.9         1046.0  ...  13.6  0.7578    18      3\n",
            "1     2.0       1292.0       9.4          955.0  ...  13.3  0.7255    19      3\n",
            "2     2.2       1402.0       9.0          939.0  ...  11.9  0.7502    20      3\n",
            "3     2.2       1376.0       9.2          948.0  ...  11.0  0.7867    21      3\n",
            "4     1.6       1272.0       6.5          836.0  ...  11.2  0.7888    22      3\n",
            "\n",
            "[5 rows x 13 columns]\n"
          ],
          "name": "stdout"
        }
      ]
    },
    {
      "cell_type": "markdown",
      "metadata": {
        "id": "hmKjipg6_0XQ",
        "colab_type": "text"
      },
      "source": [
        "Before we move on, let's scale our data. "
      ]
    },
    {
      "cell_type": "code",
      "metadata": {
        "id": "AzijlKOr6nuD",
        "colab_type": "code",
        "outputId": "cf3170a5-e73a-4197-965f-c6e028ea3628",
        "colab": {
          "base_uri": "https://localhost:8080/",
          "height": 224
        }
      },
      "source": [
        "from sklearn.preprocessing import MinMaxScaler\n",
        "scaler = MinMaxScaler()\n",
        "X_new = pd.DataFrame(scaler.fit_transform(X),index=X.index, columns=X.columns)\n",
        "X_new.head()"
      ],
      "execution_count": 108,
      "outputs": [
        {
          "output_type": "execute_result",
          "data": {
            "text/html": [
              "<div>\n",
              "<style scoped>\n",
              "    .dataframe tbody tr th:only-of-type {\n",
              "        vertical-align: middle;\n",
              "    }\n",
              "\n",
              "    .dataframe tbody tr th {\n",
              "        vertical-align: top;\n",
              "    }\n",
              "\n",
              "    .dataframe thead th {\n",
              "        text-align: right;\n",
              "    }\n",
              "</style>\n",
              "<table border=\"1\" class=\"dataframe\">\n",
              "  <thead>\n",
              "    <tr style=\"text-align: right;\">\n",
              "      <th></th>\n",
              "      <th>CO(GT)</th>\n",
              "      <th>PT08.S1(CO)</th>\n",
              "      <th>C6H6(GT)</th>\n",
              "      <th>PT08.S2(NMHC)</th>\n",
              "      <th>NOx(GT)</th>\n",
              "      <th>PT08.S3(NOx)</th>\n",
              "      <th>NO2(GT)</th>\n",
              "      <th>PT08.S4(NO2)</th>\n",
              "      <th>PT08.S5(O3)</th>\n",
              "      <th>T</th>\n",
              "      <th>AH</th>\n",
              "      <th>Hour</th>\n",
              "      <th>Month</th>\n",
              "    </tr>\n",
              "  </thead>\n",
              "  <tbody>\n",
              "    <tr>\n",
              "      <th>0</th>\n",
              "      <td>0.211864</td>\n",
              "      <td>0.511845</td>\n",
              "      <td>0.185535</td>\n",
              "      <td>0.362097</td>\n",
              "      <td>0.111036</td>\n",
              "      <td>0.310885</td>\n",
              "      <td>0.335347</td>\n",
              "      <td>0.513040</td>\n",
              "      <td>0.454822</td>\n",
              "      <td>0.333333</td>\n",
              "      <td>0.280066</td>\n",
              "      <td>0.782609</td>\n",
              "      <td>0.181818</td>\n",
              "    </tr>\n",
              "    <tr>\n",
              "      <th>1</th>\n",
              "      <td>0.161017</td>\n",
              "      <td>0.463029</td>\n",
              "      <td>0.146226</td>\n",
              "      <td>0.312398</td>\n",
              "      <td>0.068382</td>\n",
              "      <td>0.360864</td>\n",
              "      <td>0.271903</td>\n",
              "      <td>0.453237</td>\n",
              "      <td>0.326238</td>\n",
              "      <td>0.326882</td>\n",
              "      <td>0.264282</td>\n",
              "      <td>0.826087</td>\n",
              "      <td>0.181818</td>\n",
              "    </tr>\n",
              "    <tr>\n",
              "      <th>2</th>\n",
              "      <td>0.177966</td>\n",
              "      <td>0.541996</td>\n",
              "      <td>0.139937</td>\n",
              "      <td>0.303659</td>\n",
              "      <td>0.087339</td>\n",
              "      <td>0.346463</td>\n",
              "      <td>0.338369</td>\n",
              "      <td>0.451439</td>\n",
              "      <td>0.370547</td>\n",
              "      <td>0.296774</td>\n",
              "      <td>0.276352</td>\n",
              "      <td>0.869565</td>\n",
              "      <td>0.181818</td>\n",
              "    </tr>\n",
              "    <tr>\n",
              "      <th>3</th>\n",
              "      <td>0.177966</td>\n",
              "      <td>0.523331</td>\n",
              "      <td>0.143082</td>\n",
              "      <td>0.308575</td>\n",
              "      <td>0.115098</td>\n",
              "      <td>0.326133</td>\n",
              "      <td>0.362538</td>\n",
              "      <td>0.464478</td>\n",
              "      <td>0.426586</td>\n",
              "      <td>0.277419</td>\n",
              "      <td>0.294190</td>\n",
              "      <td>0.913043</td>\n",
              "      <td>0.181818</td>\n",
              "    </tr>\n",
              "    <tr>\n",
              "      <th>4</th>\n",
              "      <td>0.127119</td>\n",
              "      <td>0.448672</td>\n",
              "      <td>0.100629</td>\n",
              "      <td>0.247406</td>\n",
              "      <td>0.087339</td>\n",
              "      <td>0.373994</td>\n",
              "      <td>0.344411</td>\n",
              "      <td>0.422212</td>\n",
              "      <td>0.386186</td>\n",
              "      <td>0.281720</td>\n",
              "      <td>0.295216</td>\n",
              "      <td>0.956522</td>\n",
              "      <td>0.181818</td>\n",
              "    </tr>\n",
              "  </tbody>\n",
              "</table>\n",
              "</div>"
            ],
            "text/plain": [
              "     CO(GT)  PT08.S1(CO)  C6H6(GT)  ...        AH      Hour     Month\n",
              "0  0.211864     0.511845  0.185535  ...  0.280066  0.782609  0.181818\n",
              "1  0.161017     0.463029  0.146226  ...  0.264282  0.826087  0.181818\n",
              "2  0.177966     0.541996  0.139937  ...  0.276352  0.869565  0.181818\n",
              "3  0.177966     0.523331  0.143082  ...  0.294190  0.913043  0.181818\n",
              "4  0.127119     0.448672  0.100629  ...  0.295216  0.956522  0.181818\n",
              "\n",
              "[5 rows x 13 columns]"
            ]
          },
          "metadata": {
            "tags": []
          },
          "execution_count": 108
        }
      ]
    },
    {
      "cell_type": "code",
      "metadata": {
        "id": "O5ahLxhP_9uW",
        "colab_type": "code",
        "outputId": "e8b27774-1bf5-4db5-f474-03532b810c71",
        "colab": {
          "base_uri": "https://localhost:8080/",
          "height": 51
        }
      },
      "source": [
        "from sklearn.model_selection import train_test_split\n",
        "X_train, X_test, y_train, y_test = train_test_split(X_new,y,test_size=0.3,shuffle=True)\n",
        "print(X_train.shape, X_test.shape)\n",
        "print(y_train.shape,y_test.shape)"
      ],
      "execution_count": 109,
      "outputs": [
        {
          "output_type": "stream",
          "text": [
            "(6293, 13) (2698, 13)\n",
            "(6293,) (2698,)\n"
          ],
          "name": "stdout"
        }
      ]
    },
    {
      "cell_type": "markdown",
      "metadata": {
        "id": "9AxXuyp2eDL_",
        "colab_type": "text"
      },
      "source": [
        "## Model Selection"
      ]
    },
    {
      "cell_type": "markdown",
      "metadata": {
        "id": "VOb5vF6L7YH0",
        "colab_type": "text"
      },
      "source": [
        "### Linear Regression\n"
      ]
    },
    {
      "cell_type": "code",
      "metadata": {
        "id": "CxlKMOAf7aqV",
        "colab_type": "code",
        "colab": {}
      },
      "source": [
        "from sklearn.linear_model import LinearRegression\n",
        "lr = LinearRegression(n_jobs=-1)\n",
        "lr.fit(X_train,y_train)\n",
        "y_lr = lr.predict(X_test)"
      ],
      "execution_count": 0,
      "outputs": []
    },
    {
      "cell_type": "markdown",
      "metadata": {
        "id": "-KKVaD3u9PF-",
        "colab_type": "text"
      },
      "source": [
        "Let's make a graph to see how our Linear Regression model fits our data."
      ]
    },
    {
      "cell_type": "code",
      "metadata": {
        "id": "nflE2yjz9Ozq",
        "colab_type": "code",
        "outputId": "fa696bc7-ce1a-4565-8ae8-298bac136304",
        "colab": {
          "base_uri": "https://localhost:8080/",
          "height": 607
        }
      },
      "source": [
        "# Plot outputs\n",
        "# sns.regplot(x='Month',y='RH',data=df)\n",
        "plt.figure(figsize=(10,10))\n",
        "plt.scatter(y_test,y_lr)\n",
        "plt.title('Linear Regression Model')\n",
        "plt.show()"
      ],
      "execution_count": 111,
      "outputs": [
        {
          "output_type": "display_data",
          "data": {
            "image/png": "[encoded data removed]",
            "text/plain": [
              "<Figure size 720x720 with 1 Axes>"
            ]
          },
          "metadata": {
            "tags": [],
            "needs_background": "light"
          }
        }
      ]
    },
    {
      "cell_type": "markdown",
      "metadata": {
        "id": "0JvkccSuUyEq",
        "colab_type": "text"
      },
      "source": [
        "Let us evaluate our model on the following metrics - \n",
        "\n",
        "1. **R2 Score:** A score function (the higher the better)\n",
        "2. **RMSE:** A cost function (the lower the better)"
      ]
    },
    {
      "cell_type": "code",
      "metadata": {
        "id": "4N20Wkw8UCPn",
        "colab_type": "code",
        "outputId": "93a66a59-6d99-456d-fa63-8d1180b9b07f",
        "colab": {
          "base_uri": "https://localhost:8080/",
          "height": 51
        }
      },
      "source": [
        "from sklearn.metrics import r2_score, mean_squared_error\n",
        "print('R2 Score:',r2_score(y_test,y_lr))\n",
        "print('RMSE:',np.sqrt(mean_squared_error(y_test, y_lr)))"
      ],
      "execution_count": 112,
      "outputs": [
        {
          "output_type": "stream",
          "text": [
            "R2 Score: 0.8804354705803203\n",
            "RMSE: 6.014347187759221\n"
          ],
          "name": "stdout"
        }
      ]
    },
    {
      "cell_type": "markdown",
      "metadata": {
        "id": "SRcg8LHsO9U5",
        "colab_type": "text"
      },
      "source": [
        "### Support Vector Regression"
      ]
    },
    {
      "cell_type": "code",
      "metadata": {
        "id": "0P8Xy2XMPBcA",
        "colab_type": "code",
        "colab": {}
      },
      "source": [
        "from sklearn.svm import SVR\n",
        "svr = SVR() \n",
        "svr.fit(X_train,y_train)\n",
        "y_svr = svr.predict(X_test)"
      ],
      "execution_count": 0,
      "outputs": []
    },
    {
      "cell_type": "code",
      "metadata": {
        "id": "ZBVTTQAUTqH8",
        "colab_type": "code",
        "outputId": "45bd9c78-c8bb-49f7-9a6b-516f1935ccb7",
        "colab": {
          "base_uri": "https://localhost:8080/",
          "height": 51
        }
      },
      "source": [
        "print('R2 Score:',r2_score(y_test,y_svr))\n",
        "print('RMSE:',np.sqrt(mean_squared_error(y_test, y_svr)))"
      ],
      "execution_count": 114,
      "outputs": [
        {
          "output_type": "stream",
          "text": [
            "R2 Score: 0.9471184481619097\n",
            "RMSE: 3.9998104528074117\n"
          ],
          "name": "stdout"
        }
      ]
    },
    {
      "cell_type": "markdown",
      "metadata": {
        "id": "teDT7vyoVzfa",
        "colab_type": "text"
      },
      "source": [
        "### Decision Tree Regressor"
      ]
    },
    {
      "cell_type": "code",
      "metadata": {
        "id": "9BBmSGaWVzM7",
        "colab_type": "code",
        "colab": {}
      },
      "source": [
        "from sklearn.tree import DecisionTreeRegressor\n",
        "dtr = DecisionTreeRegressor()\n",
        "dtr.fit(X_train,y_train)\n",
        "y_dtr = dtr.predict(X_test)"
      ],
      "execution_count": 0,
      "outputs": []
    },
    {
      "cell_type": "code",
      "metadata": {
        "id": "HQECVOSCWAfr",
        "colab_type": "code",
        "outputId": "7987e6ae-a916-40d4-bc29-e3018045c86b",
        "colab": {
          "base_uri": "https://localhost:8080/",
          "height": 51
        }
      },
      "source": [
        "print('R2 Score:',r2_score(y_test,y_dtr))\n",
        "print('RMSE:',np.sqrt(mean_squared_error(y_test, y_dtr)))"
      ],
      "execution_count": 116,
      "outputs": [
        {
          "output_type": "stream",
          "text": [
            "R2 Score: 0.9937942699036006\n",
            "RMSE: 1.3701993491774422\n"
          ],
          "name": "stdout"
        }
      ]
    },
    {
      "cell_type": "markdown",
      "metadata": {
        "id": "GBFlHhRxWK8X",
        "colab_type": "text"
      },
      "source": [
        "### Random Forest Regressor"
      ]
    },
    {
      "cell_type": "code",
      "metadata": {
        "id": "2ZJTBFv8MeHn",
        "colab_type": "code",
        "colab": {}
      },
      "source": [
        "from sklearn.ensemble import RandomForestRegressor\n",
        "rf = RandomForestRegressor()\n",
        "rf.fit(X_train,y_train)\n",
        "y_rf = rf.predict(X_test)"
      ],
      "execution_count": 0,
      "outputs": []
    },
    {
      "cell_type": "code",
      "metadata": {
        "id": "BT9Zpe0sWYKy",
        "colab_type": "code",
        "outputId": "9df7c696-8b6e-4fbe-810b-5f7a62ff9542",
        "colab": {
          "base_uri": "https://localhost:8080/",
          "height": 51
        }
      },
      "source": [
        "print('R2 Score:',r2_score(y_test,y_rf))\n",
        "print('RMSE:',np.sqrt(mean_squared_error(y_test, y_rf)))"
      ],
      "execution_count": 118,
      "outputs": [
        {
          "output_type": "stream",
          "text": [
            "R2 Score: 0.998317762080435\n",
            "RMSE: 0.7133965824419704\n"
          ],
          "name": "stdout"
        }
      ]
    },
    {
      "cell_type": "markdown",
      "metadata": {
        "id": "82amhcPjE7oU",
        "colab_type": "text"
      },
      "source": [
        "Since our model seems to be overfitting, let's try and calculate the Adjusted R-squared value. "
      ]
    },
    {
      "cell_type": "code",
      "metadata": {
        "id": "yYyMjXs8_MMQ",
        "colab_type": "code",
        "colab": {
          "base_uri": "https://localhost:8080/",
          "height": 34
        },
        "outputId": "e94fbf9c-9686-4a98-a7b0-a0c93a0ee986"
      },
      "source": [
        "n = y.shape[0]\n",
        "p = 13\n",
        "adj_rsquared = 1 - (1 - r2_score(y_test,y_rf)) * ((n - 1)/(n-p-1))\n",
        "print(adj_rsquared)"
      ],
      "execution_count": 119,
      "outputs": [
        {
          "output_type": "stream",
          "text": [
            "0.9983153259555654\n"
          ],
          "name": "stdout"
        }
      ]
    },
    {
      "cell_type": "markdown",
      "metadata": {
        "id": "kvZ0vQlBCtVC",
        "colab_type": "text"
      },
      "source": [
        "### Lasso Regression"
      ]
    },
    {
      "cell_type": "code",
      "metadata": {
        "id": "YA8Ot56gCvDN",
        "colab_type": "code",
        "colab": {
          "base_uri": "https://localhost:8080/",
          "height": 51
        },
        "outputId": "1020d51a-8aaf-4aaf-a850-a4f5b5ea1c61"
      },
      "source": [
        "from sklearn.linear_model import Lasso\n",
        "la = Lasso(alpha=1.0)\n",
        "la.fit(X_train,y_train)\n",
        "y_la = la.predict(X_test)\n",
        "print(la.score(X_train,y_train))\n",
        "print(la.score(X_test,y_test))"
      ],
      "execution_count": 120,
      "outputs": [
        {
          "output_type": "stream",
          "text": [
            "0.3436214062970476\n",
            "0.34105635507146326\n"
          ],
          "name": "stdout"
        }
      ]
    },
    {
      "cell_type": "code",
      "metadata": {
        "id": "R7gVHbghC9RD",
        "colab_type": "code",
        "colab": {
          "base_uri": "https://localhost:8080/",
          "height": 51
        },
        "outputId": "2c6d5190-3248-450f-89fb-01da07ea914b"
      },
      "source": [
        "print('R2 Score:',r2_score(y_test,y_la))\n",
        "print('RMSE:',np.sqrt(mean_squared_error(y_test, y_la)))"
      ],
      "execution_count": 121,
      "outputs": [
        {
          "output_type": "stream",
          "text": [
            "R2 Score: 0.34105635507146326\n",
            "RMSE: 14.119244286409344\n"
          ],
          "name": "stdout"
        }
      ]
    }
  ]
}